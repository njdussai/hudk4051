{
 "cells": [
  {
   "cell_type": "markdown",
   "id": "d3592905",
   "metadata": {},
   "source": [
    "## ICE 4\n",
    "\n",
    "**Author**: Nicolas Dussaillant\n",
    "\n",
    "**Instructor**: Dr. Lukas Liu\n",
    "\n",
    "**Course**: HUDK4051 - Learning Analytics - Teachers College, Columbia University"
   ]
  },
  {
   "cell_type": "markdown",
   "id": "7e450ba2",
   "metadata": {},
   "source": [
    "## Work: Recommender System"
   ]
  },
  {
   "cell_type": "code",
   "execution_count": 1,
   "id": "5802d19c",
   "metadata": {},
   "outputs": [],
   "source": [
    "import pandas as pd\n",
    "import numpy as np\n",
    "import matplotlib.pyplot as plt"
   ]
  },
  {
   "cell_type": "code",
   "execution_count": 2,
   "id": "136d6ade",
   "metadata": {},
   "outputs": [],
   "source": [
    "interest = pd.read_csv(\"interest.csv\")\n",
    "difficulty = pd.read_csv(\"difficulty.csv\")"
   ]
  },
  {
   "cell_type": "code",
   "execution_count": 3,
   "id": "1372b2f4",
   "metadata": {},
   "outputs": [
    {
     "data": {
      "text/html": [
       "<div>\n",
       "<style scoped>\n",
       "    .dataframe tbody tr th:only-of-type {\n",
       "        vertical-align: middle;\n",
       "    }\n",
       "\n",
       "    .dataframe tbody tr th {\n",
       "        vertical-align: top;\n",
       "    }\n",
       "\n",
       "    .dataframe thead th {\n",
       "        text-align: right;\n",
       "    }\n",
       "</style>\n",
       "<table border=\"1\" class=\"dataframe\">\n",
       "  <thead>\n",
       "    <tr style=\"text-align: right;\">\n",
       "      <th></th>\n",
       "      <th>id</th>\n",
       "      <th>prediction.interest</th>\n",
       "      <th>nlp.interest</th>\n",
       "      <th>sna.interest</th>\n",
       "      <th>neural.interest</th>\n",
       "      <th>viz.interest</th>\n",
       "      <th>loop.interest</th>\n",
       "      <th>sql.interest</th>\n",
       "    </tr>\n",
       "  </thead>\n",
       "  <tbody>\n",
       "    <tr>\n",
       "      <th>0</th>\n",
       "      <td>s1</td>\n",
       "      <td>5</td>\n",
       "      <td>5.0</td>\n",
       "      <td>4</td>\n",
       "      <td>5.0</td>\n",
       "      <td>2</td>\n",
       "      <td>4.0</td>\n",
       "      <td>5.0</td>\n",
       "    </tr>\n",
       "    <tr>\n",
       "      <th>1</th>\n",
       "      <td>s2</td>\n",
       "      <td>5</td>\n",
       "      <td>5.0</td>\n",
       "      <td>5</td>\n",
       "      <td>5.0</td>\n",
       "      <td>5</td>\n",
       "      <td>5.0</td>\n",
       "      <td>5.0</td>\n",
       "    </tr>\n",
       "    <tr>\n",
       "      <th>2</th>\n",
       "      <td>s3</td>\n",
       "      <td>5</td>\n",
       "      <td>5.0</td>\n",
       "      <td>5</td>\n",
       "      <td>5.0</td>\n",
       "      <td>5</td>\n",
       "      <td>4.0</td>\n",
       "      <td>4.0</td>\n",
       "    </tr>\n",
       "    <tr>\n",
       "      <th>3</th>\n",
       "      <td>s4</td>\n",
       "      <td>4</td>\n",
       "      <td>5.0</td>\n",
       "      <td>5</td>\n",
       "      <td>5.0</td>\n",
       "      <td>5</td>\n",
       "      <td>5.0</td>\n",
       "      <td>5.0</td>\n",
       "    </tr>\n",
       "    <tr>\n",
       "      <th>4</th>\n",
       "      <td>s5</td>\n",
       "      <td>4</td>\n",
       "      <td>4.0</td>\n",
       "      <td>4</td>\n",
       "      <td>5.0</td>\n",
       "      <td>4</td>\n",
       "      <td>4.0</td>\n",
       "      <td>5.0</td>\n",
       "    </tr>\n",
       "  </tbody>\n",
       "</table>\n",
       "</div>"
      ],
      "text/plain": [
       "   id  prediction.interest  nlp.interest  sna.interest  neural.interest  \\\n",
       "0  s1                    5           5.0             4              5.0   \n",
       "1  s2                    5           5.0             5              5.0   \n",
       "2  s3                    5           5.0             5              5.0   \n",
       "3  s4                    4           5.0             5              5.0   \n",
       "4  s5                    4           4.0             4              5.0   \n",
       "\n",
       "   viz.interest  loop.interest  sql.interest  \n",
       "0             2            4.0           5.0  \n",
       "1             5            5.0           5.0  \n",
       "2             5            4.0           4.0  \n",
       "3             5            5.0           5.0  \n",
       "4             4            4.0           5.0  "
      ]
     },
     "execution_count": 3,
     "metadata": {},
     "output_type": "execute_result"
    }
   ],
   "source": [
    "interest.head()"
   ]
  },
  {
   "cell_type": "code",
   "execution_count": 4,
   "id": "00ace49f",
   "metadata": {},
   "outputs": [
    {
     "data": {
      "text/html": [
       "<div>\n",
       "<style scoped>\n",
       "    .dataframe tbody tr th:only-of-type {\n",
       "        vertical-align: middle;\n",
       "    }\n",
       "\n",
       "    .dataframe tbody tr th {\n",
       "        vertical-align: top;\n",
       "    }\n",
       "\n",
       "    .dataframe thead th {\n",
       "        text-align: right;\n",
       "    }\n",
       "</style>\n",
       "<table border=\"1\" class=\"dataframe\">\n",
       "  <thead>\n",
       "    <tr style=\"text-align: right;\">\n",
       "      <th></th>\n",
       "      <th>id</th>\n",
       "      <th>prediction.difficulty</th>\n",
       "      <th>nlp.difficulty</th>\n",
       "      <th>sna.difficulty</th>\n",
       "      <th>neural.difficulty</th>\n",
       "      <th>viz.difficulty</th>\n",
       "      <th>loop.difficulty</th>\n",
       "      <th>sql.difficulty</th>\n",
       "    </tr>\n",
       "  </thead>\n",
       "  <tbody>\n",
       "    <tr>\n",
       "      <th>0</th>\n",
       "      <td>s1</td>\n",
       "      <td>4</td>\n",
       "      <td>5.0</td>\n",
       "      <td>3</td>\n",
       "      <td>5.0</td>\n",
       "      <td>3.0</td>\n",
       "      <td>3.0</td>\n",
       "      <td>5.0</td>\n",
       "    </tr>\n",
       "    <tr>\n",
       "      <th>1</th>\n",
       "      <td>s2</td>\n",
       "      <td>5</td>\n",
       "      <td>5.0</td>\n",
       "      <td>5</td>\n",
       "      <td>5.0</td>\n",
       "      <td>5.0</td>\n",
       "      <td>5.0</td>\n",
       "      <td>5.0</td>\n",
       "    </tr>\n",
       "    <tr>\n",
       "      <th>2</th>\n",
       "      <td>s3</td>\n",
       "      <td>3</td>\n",
       "      <td>3.0</td>\n",
       "      <td>3</td>\n",
       "      <td>3.0</td>\n",
       "      <td>3.0</td>\n",
       "      <td>3.0</td>\n",
       "      <td>2.0</td>\n",
       "    </tr>\n",
       "    <tr>\n",
       "      <th>3</th>\n",
       "      <td>s4</td>\n",
       "      <td>3</td>\n",
       "      <td>4.0</td>\n",
       "      <td>4</td>\n",
       "      <td>4.0</td>\n",
       "      <td>4.0</td>\n",
       "      <td>5.0</td>\n",
       "      <td>3.0</td>\n",
       "    </tr>\n",
       "    <tr>\n",
       "      <th>4</th>\n",
       "      <td>s5</td>\n",
       "      <td>4</td>\n",
       "      <td>4.0</td>\n",
       "      <td>4</td>\n",
       "      <td>5.0</td>\n",
       "      <td>4.0</td>\n",
       "      <td>4.0</td>\n",
       "      <td>4.0</td>\n",
       "    </tr>\n",
       "  </tbody>\n",
       "</table>\n",
       "</div>"
      ],
      "text/plain": [
       "   id  prediction.difficulty  nlp.difficulty  sna.difficulty  \\\n",
       "0  s1                      4             5.0               3   \n",
       "1  s2                      5             5.0               5   \n",
       "2  s3                      3             3.0               3   \n",
       "3  s4                      3             4.0               4   \n",
       "4  s5                      4             4.0               4   \n",
       "\n",
       "   neural.difficulty  viz.difficulty  loop.difficulty  sql.difficulty  \n",
       "0                5.0             3.0              3.0             5.0  \n",
       "1                5.0             5.0              5.0             5.0  \n",
       "2                3.0             3.0              3.0             2.0  \n",
       "3                4.0             4.0              5.0             3.0  \n",
       "4                5.0             4.0              4.0             4.0  "
      ]
     },
     "execution_count": 4,
     "metadata": {},
     "output_type": "execute_result"
    }
   ],
   "source": [
    "difficulty.head()"
   ]
  },
  {
   "cell_type": "code",
   "execution_count": 9,
   "id": "3c767e34",
   "metadata": {},
   "outputs": [
    {
     "data": {
      "text/html": [
       "<div>\n",
       "<style scoped>\n",
       "    .dataframe tbody tr th:only-of-type {\n",
       "        vertical-align: middle;\n",
       "    }\n",
       "\n",
       "    .dataframe tbody tr th {\n",
       "        vertical-align: top;\n",
       "    }\n",
       "\n",
       "    .dataframe thead th {\n",
       "        text-align: right;\n",
       "    }\n",
       "</style>\n",
       "<table border=\"1\" class=\"dataframe\">\n",
       "  <thead>\n",
       "    <tr style=\"text-align: right;\">\n",
       "      <th></th>\n",
       "      <th>type</th>\n",
       "      <th>difficulty</th>\n",
       "      <th>interest</th>\n",
       "    </tr>\n",
       "  </thead>\n",
       "  <tbody>\n",
       "    <tr>\n",
       "      <th>0</th>\n",
       "      <td>prediction</td>\n",
       "      <td>3.807692</td>\n",
       "      <td>4.326923</td>\n",
       "    </tr>\n",
       "    <tr>\n",
       "      <th>1</th>\n",
       "      <td>nlp</td>\n",
       "      <td>4.220000</td>\n",
       "      <td>4.431373</td>\n",
       "    </tr>\n",
       "    <tr>\n",
       "      <th>2</th>\n",
       "      <td>sna</td>\n",
       "      <td>3.769231</td>\n",
       "      <td>4.134615</td>\n",
       "    </tr>\n",
       "    <tr>\n",
       "      <th>3</th>\n",
       "      <td>neural</td>\n",
       "      <td>4.400000</td>\n",
       "      <td>4.490196</td>\n",
       "    </tr>\n",
       "    <tr>\n",
       "      <th>4</th>\n",
       "      <td>viz</td>\n",
       "      <td>4.060000</td>\n",
       "      <td>4.596154</td>\n",
       "    </tr>\n",
       "    <tr>\n",
       "      <th>5</th>\n",
       "      <td>loop</td>\n",
       "      <td>4.080000</td>\n",
       "      <td>4.431373</td>\n",
       "    </tr>\n",
       "    <tr>\n",
       "      <th>6</th>\n",
       "      <td>sql</td>\n",
       "      <td>3.693878</td>\n",
       "      <td>4.431373</td>\n",
       "    </tr>\n",
       "  </tbody>\n",
       "</table>\n",
       "</div>"
      ],
      "text/plain": [
       "         type  difficulty  interest\n",
       "0  prediction    3.807692  4.326923\n",
       "1         nlp    4.220000  4.431373\n",
       "2         sna    3.769231  4.134615\n",
       "3      neural    4.400000  4.490196\n",
       "4         viz    4.060000  4.596154\n",
       "5        loop    4.080000  4.431373\n",
       "6         sql    3.693878  4.431373"
      ]
     },
     "execution_count": 9,
     "metadata": {},
     "output_type": "execute_result"
    }
   ],
   "source": [
    "di = {\n",
    "    \"type\" : [\"prediction\", \"nlp\", \"sna\", \"neural\", \"viz\", \"loop\", \"sql\"],\n",
    "    \"difficulty\" : [difficulty[\"prediction.difficulty\"].mean(),\n",
    "                   difficulty[\"nlp.difficulty\"].mean(),\n",
    "                   difficulty[\"sna.difficulty\"].mean(),\n",
    "                   difficulty[\"neural.difficulty\"].mean(),\n",
    "                   difficulty[\"viz.difficulty\"].mean(),\n",
    "                   difficulty[\"loop.difficulty\"].mean(),\n",
    "                   difficulty[\"sql.difficulty\"].mean()],\n",
    "    \"interest\" : [interest[\"prediction.interest\"].mean(),\n",
    "                   interest[\"nlp.interest\"].mean(),\n",
    "                   interest[\"sna.interest\"].mean(),\n",
    "                   interest[\"neural.interest\"].mean(),\n",
    "                   interest[\"viz.interest\"].mean(),\n",
    "                   interest[\"loop.interest\"].mean(),\n",
    "                   interest[\"sql.interest\"].mean()],\n",
    "}\n",
    "difficulty_interest = pd.DataFrame(di)\n",
    "difficulty_interest"
   ]
  },
  {
   "cell_type": "markdown",
   "id": "f543f616",
   "metadata": {},
   "source": [
    "### Content-Based Recommender"
   ]
  },
  {
   "cell_type": "code",
   "execution_count": 12,
   "id": "410904cc",
   "metadata": {},
   "outputs": [
    {
     "data": {
      "image/png": "[encoded data removed]",
      "text/plain": [
       "<Figure size 432x288 with 1 Axes>"
      ]
     },
     "metadata": {
      "needs_background": "light"
     },
     "output_type": "display_data"
    }
   ],
   "source": [
    "# Plot the basic scatter plot\n",
    "plt.scatter(difficulty_interest.difficulty, difficulty_interest.interest)\n",
    "\n",
    "for i, index in enumerate (difficulty_interest.type):\n",
    "    plt.text(difficulty_interest.difficulty[i]+0.01, difficulty_interest.interest[i]+0.01, index)\n",
    "\n",
    "plt.xlim (3.5, 4.7)\n",
    "plt.ylim (4.0, 4.7)\n",
    "plt.xlabel(\"difficulty\")\n",
    "plt.ylabel(\"interest\");"
   ]
  },
  {
   "cell_type": "code",
   "execution_count": 17,
   "id": "e05a0efa",
   "metadata": {},
   "outputs": [
    {
     "data": {
      "text/html": [
       "<div>\n",
       "<style scoped>\n",
       "    .dataframe tbody tr th:only-of-type {\n",
       "        vertical-align: middle;\n",
       "    }\n",
       "\n",
       "    .dataframe tbody tr th {\n",
       "        vertical-align: top;\n",
       "    }\n",
       "\n",
       "    .dataframe thead th {\n",
       "        text-align: right;\n",
       "    }\n",
       "</style>\n",
       "<table border=\"1\" class=\"dataframe\">\n",
       "  <thead>\n",
       "    <tr style=\"text-align: right;\">\n",
       "      <th></th>\n",
       "      <th>type</th>\n",
       "      <th>difficulty</th>\n",
       "      <th>interest</th>\n",
       "      <th>distance</th>\n",
       "    </tr>\n",
       "  </thead>\n",
       "  <tbody>\n",
       "    <tr>\n",
       "      <th>1</th>\n",
       "      <td>nlp</td>\n",
       "      <td>4.220000</td>\n",
       "      <td>4.431373</td>\n",
       "      <td>0.000000</td>\n",
       "    </tr>\n",
       "    <tr>\n",
       "      <th>5</th>\n",
       "      <td>loop</td>\n",
       "      <td>4.080000</td>\n",
       "      <td>4.431373</td>\n",
       "      <td>0.140000</td>\n",
       "    </tr>\n",
       "    <tr>\n",
       "      <th>3</th>\n",
       "      <td>neural</td>\n",
       "      <td>4.400000</td>\n",
       "      <td>4.490196</td>\n",
       "      <td>0.189368</td>\n",
       "    </tr>\n",
       "    <tr>\n",
       "      <th>4</th>\n",
       "      <td>viz</td>\n",
       "      <td>4.060000</td>\n",
       "      <td>4.596154</td>\n",
       "      <td>0.229680</td>\n",
       "    </tr>\n",
       "    <tr>\n",
       "      <th>0</th>\n",
       "      <td>prediction</td>\n",
       "      <td>3.807692</td>\n",
       "      <td>4.326923</td>\n",
       "      <td>0.425332</td>\n",
       "    </tr>\n",
       "    <tr>\n",
       "      <th>6</th>\n",
       "      <td>sql</td>\n",
       "      <td>3.693878</td>\n",
       "      <td>4.431373</td>\n",
       "      <td>0.526122</td>\n",
       "    </tr>\n",
       "    <tr>\n",
       "      <th>2</th>\n",
       "      <td>sna</td>\n",
       "      <td>3.769231</td>\n",
       "      <td>4.134615</td>\n",
       "      <td>0.539683</td>\n",
       "    </tr>\n",
       "  </tbody>\n",
       "</table>\n",
       "</div>"
      ],
      "text/plain": [
       "         type  difficulty  interest  distance\n",
       "1         nlp    4.220000  4.431373  0.000000\n",
       "5        loop    4.080000  4.431373  0.140000\n",
       "3      neural    4.400000  4.490196  0.189368\n",
       "4         viz    4.060000  4.596154  0.229680\n",
       "0  prediction    3.807692  4.326923  0.425332\n",
       "6         sql    3.693878  4.431373  0.526122\n",
       "2         sna    3.769231  4.134615  0.539683"
      ]
     },
     "execution_count": 17,
     "metadata": {},
     "output_type": "execute_result"
    }
   ],
   "source": [
    "import math\n",
    "\n",
    "# New column called distance. 0 to all rows.\n",
    "difficulty_interest_distance = difficulty_interest.copy()\n",
    "difficulty_interest_distance['distance'] = 0\n",
    "\n",
    "# Pick any row to start\n",
    "item = difficulty_interest_distance[[\"difficulty\", \"interest\"]].iloc[1,]\n",
    "\n",
    "# Loop around the data frame index; Obtain the target row; Calculate the distance\n",
    "# Assign to d; And assign to the corresponding cell.\n",
    "for i in difficulty_interest_distance.index:\n",
    "    target = difficulty_interest_distance[[\"difficulty\", \"interest\"]].loc[i,]\n",
    "    d = math.dist(item, target)\n",
    "    difficulty_interest_distance.loc[i, 'distance'] = d\n",
    "\n",
    "# Sort the result by distance\n",
    "difficulty_interest_distance.sort_values('distance', ascending=True)"
   ]
  },
  {
   "cell_type": "markdown",
   "id": "7b223182",
   "metadata": {},
   "source": [
    "Using Cosine"
   ]
  },
  {
   "cell_type": "code",
   "execution_count": 19,
   "id": "7dc592aa",
   "metadata": {},
   "outputs": [
    {
     "data": {
      "text/plain": [
       "array([[1.        , 0.99922723, 0.99984605, 0.99856397, 0.99999823,\n",
       "        0.99974724, 0.99964159],\n",
       "       [0.99922723, 1.        , 0.99976308, 0.99989801, 0.99929948,\n",
       "        0.99985835, 0.99781682],\n",
       "       [0.99984605, 0.99976308, 1.        , 0.99935025, 0.99987732,\n",
       "        0.99998782, 0.99901794],\n",
       "       [0.99856397, 0.99989801, 0.99935025, 1.        , 0.99866309,\n",
       "        0.999516  , 0.99677186],\n",
       "       [0.99999823, 0.99929948, 0.99987732, 0.99866309, 1.        ,\n",
       "        0.99978781, 0.99958939],\n",
       "       [0.99974724, 0.99985835, 0.99998782, 0.999516  , 0.99978781,\n",
       "        1.        , 0.99878705],\n",
       "       [0.99964159, 0.99781682, 0.99901794, 0.99677186, 0.99958939,\n",
       "        0.99878705, 1.        ]])"
      ]
     },
     "execution_count": 19,
     "metadata": {},
     "output_type": "execute_result"
    }
   ],
   "source": [
    "from sklearn.metrics.pairwise import cosine_similarity\n",
    "\n",
    "cosine_sim = cosine_similarity(difficulty_interest[[\"difficulty\", \"interest\"]])\n",
    "cosine_sim"
   ]
  },
  {
   "cell_type": "code",
   "execution_count": 20,
   "id": "6295ed99",
   "metadata": {},
   "outputs": [
    {
     "data": {
      "text/plain": [
       "type\n",
       "prediction    0\n",
       "nlp           1\n",
       "sna           2\n",
       "neural        3\n",
       "viz           4\n",
       "loop          5\n",
       "sql           6\n",
       "dtype: int64"
      ]
     },
     "execution_count": 20,
     "metadata": {},
     "output_type": "execute_result"
    }
   ],
   "source": [
    "module_indices = pd.Series(range(len(difficulty_interest.index)), index = difficulty_interest.type)\n",
    "\n",
    "module_indices"
   ]
  },
  {
   "cell_type": "code",
   "execution_count": 21,
   "id": "95354264",
   "metadata": {},
   "outputs": [],
   "source": [
    "def get_recommendations(name, cosine_sim, matrix_indices):\n",
    "    # Get the index of the movie that matches the title\n",
    "    idx = matrix_indices[name]\n",
    "\n",
    "    # Get the pairwsie similarity scores of all movies with that movie\n",
    "    sim_scores = list(enumerate(cosine_sim[idx]))\n",
    "\n",
    "    # Sort the movies based on the similarity scores\n",
    "    sim_scores = sorted(sim_scores, key=lambda x: x[1], reverse=True)\n",
    "\n",
    "    # Get the scores of the 10 most similar movies\n",
    "    sim_scores = sim_scores[1:6]\n",
    "\n",
    "    # Get the movie indices\n",
    "    rank_indices = [i[0] for i in sim_scores]\n",
    "\n",
    "    # Return the top 10 most similar movies\n",
    "    return matrix_indices.iloc[rank_indices]"
   ]
  },
  {
   "cell_type": "code",
   "execution_count": 22,
   "id": "2cacd75c",
   "metadata": {},
   "outputs": [
    {
     "data": {
      "text/plain": [
       "type\n",
       "viz     4\n",
       "sna     2\n",
       "loop    5\n",
       "sql     6\n",
       "nlp     1\n",
       "dtype: int64"
      ]
     },
     "execution_count": 22,
     "metadata": {},
     "output_type": "execute_result"
    }
   ],
   "source": [
    "get_recommendations(\"prediction\", cosine_sim, module_indices)"
   ]
  },
  {
   "cell_type": "markdown",
   "id": "2a699a78",
   "metadata": {},
   "source": [
    "### Collaborative filter"
   ]
  },
  {
   "cell_type": "code",
   "execution_count": 23,
   "id": "09a3fd77",
   "metadata": {},
   "outputs": [],
   "source": [
    "interest_na = interest.dropna()\n",
    "interest_na.index = interest_na.id\n",
    "interest_clean = interest_na.drop('id', axis=1)"
   ]
  },
  {
   "cell_type": "code",
   "execution_count": 24,
   "id": "55fa985b",
   "metadata": {},
   "outputs": [],
   "source": [
    "# Obtain the cosine similarity matrix\n",
    "cosine_sim_interest = cosine_similarity(interest_clean, interest_clean)\n",
    "# Create an index for the student list\n",
    "id_indices = pd.Series(range(len(interest_clean.index)), index = interest_clean.index)"
   ]
  },
  {
   "cell_type": "code",
   "execution_count": 25,
   "id": "2ad137bf",
   "metadata": {},
   "outputs": [
    {
     "data": {
      "text/plain": [
       "id\n",
       "s2      1\n",
       "s6      5\n",
       "s12    11\n",
       "s13    12\n",
       "s16    15\n",
       "dtype: int64"
      ]
     },
     "execution_count": 25,
     "metadata": {},
     "output_type": "execute_result"
    }
   ],
   "source": [
    "# Recycle the get_recommendations() that we have created\n",
    "get_recommendations(\"s5\", cosine_sim_interest, id_indices)"
   ]
  }
 ],
 "metadata": {
  "kernelspec": {
   "display_name": "Python 3.8.12 64-bit ('base': conda)",
   "language": "python",
   "name": "python3812jvsc74a57bd06034267fc735e6f211b54e6db3b024727ff25aaf139d75f07ed61a9d39c58b2d"
  },
  "language_info": {
   "codemirror_mode": {
    "name": "ipython",
    "version": 3
   },
   "file_extension": ".py",
   "mimetype": "text/x-python",
   "name": "python",
   "nbconvert_exporter": "python",
   "pygments_lexer": "ipython3",
   "version": "3.8.12"
  }
 },
 "nbformat": 4,
 "nbformat_minor": 5
}
