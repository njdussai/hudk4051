{
 "cells": [
  {
   "cell_type": "markdown",
   "id": "39a1c798",
   "metadata": {},
   "source": [
    "# ICE 1 - Using MongoDB in Julia"
   ]
  },
  {
   "cell_type": "markdown",
   "id": "2a5c33c7",
   "metadata": {},
   "source": [
    "**Author**: Nicolas Dussaillant"
   ]
  },
  {
   "cell_type": "markdown",
   "id": "b31f2873",
   "metadata": {},
   "source": [
    "## Preparation"
   ]
  },
  {
   "cell_type": "markdown",
   "id": "30fb97cc",
   "metadata": {},
   "source": [
    "For this code, the computer specifications were the following:\n",
    "- Processor: Apple Silicon M1\n",
    "- OS: MacOS 11.6 (Big Sur)\n",
    "\n",
    "Previously installed software used for installations and usage:\n",
    "- [Homebrew](https://docs.brew.sh/)\n",
    "- [Anaconda](https://docs.anaconda.com/anaconda/install/mac-os/)\n",
    "\n",
    "### Installing and preparing Julia:\n",
    "\n",
    "1. **Download and install Julia:**\n",
    "    \n",
    "    For native operation of Julia it is necessary to install v1.7 which is not available through Homebrew, so download and install version 1.7.1 for Apple M-Series [here](https://julialang.org/downloads/) (experimental version).\n",
    "\n",
    "\n",
    "2. **Create a link to execute Julia from the Terminal:**\n",
    "    \n",
    "    Run the following link in the terminal:\n",
    "\n",
    "    `sudo ln -s /Applications/Julia-1.7.app/Contents/Resources/julia/bin/julia /usr/local/bin/julia`\n",
    "\n",
    "    (Make sure that directory `/usr/local/bin` exists or create it before running that command)\n",
    "\n",
    "\n",
    "3. **Download IJulia to use Jupyter Notebooks:**\n",
    "\n",
    "    Enter Julia typing `julia` in the Terminal. Then press `]`, type `add IJulia` and hit **enter**. After installation, hit **delete** and exit Julia (running `exit()` or pressing `ctrl + D`).\n",
    "    \n",
    "    After that, run Jupyter Notebook from Anaconda Navigator, and create a new Julia notebook.\n",
    "    \n",
    "    \n",
    "### Installing and preparing MongoDB\n",
    "\n",
    "For MongoDB we will use HomeBrew. All the following is run in the **Terminal**.\n",
    "\n",
    "1. **Add third-party repositories for MongoDB in Brew.** Run:\n",
    "\n",
    "    `brew tap mongodb/brew`\n",
    "    \n",
    "    \n",
    "2. **Install mongodb-community running**:\n",
    "\n",
    "    `brew install mongodb-community`\n",
    "    \n",
    "    \n",
    "3. **To start and stop mongodb, use the following commands (although we will run them in this Notebook as well)**:\n",
    "\n",
    "    `brew services start mongodb-community`\n",
    "\n",
    "    `brew services stop mongodb-community`\n",
    "    \n",
    "    \n",
    "**Note**: To edit configurations of MongoDB, edit the following file: `/opt/homebrew/etc/mongod.conf`. By default, MongoDB will run on 127.0.0.1:27017\n"
   ]
  }
 ],
 "metadata": {
  "kernelspec": {
   "display_name": "Julia 1.7.1",
   "language": "julia",
   "name": "julia-1.7"
  },
  "language_info": {
   "file_extension": ".jl",
   "mimetype": "application/julia",
   "name": "julia",
   "version": "1.7.1"
  }
 },
 "nbformat": 4,
 "nbformat_minor": 5
}
