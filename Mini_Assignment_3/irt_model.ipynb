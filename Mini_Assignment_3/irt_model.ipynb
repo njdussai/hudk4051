{
 "cells": [
  {
   "cell_type": "markdown",
   "source": [
    "### Mini-LA Assignment 1: Classification and Prediction\n",
    "\n",
    "**Authors**: Mina Choi, Nicolas Dussaillant\n",
    "\n",
    "**Course**: HUDK4051 Learning Analytics: Process and Theory"
   ],
   "metadata": {
    "id": "NwkVwEYrElO6"
   }
  },
  {
   "cell_type": "code",
   "execution_count": 1,
   "source": [
    "import pandas as pd\n",
    "import stan"
   ],
   "outputs": [],
   "metadata": {}
  },
  {
   "cell_type": "code",
   "execution_count": 4,
   "source": [
    "df = pd.read_csv(\"https://drive.google.com/uc?export=download&id=1ZH6btsEXM3ekZ3y-m6u_ZxgkF88_zOqW\",\n",
    "                 dtype = {\n",
    "                     'Lesson' : 'category',\n",
    "                     'Student': 'category',\n",
    "                     'KC'     : 'category',\n",
    "                     'item'   : 'category'\n",
    "                 })\n",
    "\n",
    "df['Lesson_number'] = df.Lesson.cat.codes + 1\n",
    "df['Student_number'] = df.Student.cat.codes + 1\n",
    "df['KC_number'] = df.KC.cat.codes + 1\n",
    "df['item_number'] = df.item.cat.codes + 1"
   ],
   "outputs": [],
   "metadata": {}
  },
  {
   "cell_type": "code",
   "execution_count": 6,
   "source": [
    "items_data = df.loc[(df['firstattempt'] == 1) & (df['Lesson'] == \"Splot\") & (df['KC'] == \"QUANTITATIVE-VALUING-DETERMINE-ARBITRARY-SCALEKNOWN\")]\n",
    "\n",
    "# New categorical values\n",
    "items_data['Lesson_number_filtered'] = items_data['Lesson_number'].astype(str).astype(\"category\").cat.codes + 1\n",
    "items_data['Student_number_filtered'] = items_data['Student_number'].astype(str).astype(\"category\").cat.codes + 1\n",
    "items_data['item_number_filtered'] = items_data['item_number'].astype(str).astype(\"category\").cat.codes + 1\n",
    "\n",
    "items_data.to_pickle('items_data.pkl')"
   ],
   "outputs": [
    {
     "output_type": "stream",
     "name": "stderr",
     "text": [
      "/var/folders/lc/stkk_5mx3gq9ypk8pz7l_74w0000gn/T/ipykernel_29797/504031896.py:4: SettingWithCopyWarning: \n",
      "A value is trying to be set on a copy of a slice from a DataFrame.\n",
      "Try using .loc[row_indexer,col_indexer] = value instead\n",
      "\n",
      "See the caveats in the documentation: https://pandas.pydata.org/pandas-docs/stable/user_guide/indexing.html#returning-a-view-versus-a-copy\n",
      "  items_data['Lesson_number_filtered'] = items_data['Lesson_number'].astype(str).astype(\"category\").cat.codes + 1\n",
      "/var/folders/lc/stkk_5mx3gq9ypk8pz7l_74w0000gn/T/ipykernel_29797/504031896.py:5: SettingWithCopyWarning: \n",
      "A value is trying to be set on a copy of a slice from a DataFrame.\n",
      "Try using .loc[row_indexer,col_indexer] = value instead\n",
      "\n",
      "See the caveats in the documentation: https://pandas.pydata.org/pandas-docs/stable/user_guide/indexing.html#returning-a-view-versus-a-copy\n",
      "  items_data['Student_number_filtered'] = items_data['Student_number'].astype(str).astype(\"category\").cat.codes + 1\n",
      "/var/folders/lc/stkk_5mx3gq9ypk8pz7l_74w0000gn/T/ipykernel_29797/504031896.py:6: SettingWithCopyWarning: \n",
      "A value is trying to be set on a copy of a slice from a DataFrame.\n",
      "Try using .loc[row_indexer,col_indexer] = value instead\n",
      "\n",
      "See the caveats in the documentation: https://pandas.pydata.org/pandas-docs/stable/user_guide/indexing.html#returning-a-view-versus-a-copy\n",
      "  items_data['item_number_filtered'] = items_data['item_number'].astype(str).astype(\"category\").cat.codes + 1\n"
     ]
    }
   ],
   "metadata": {}
  },
  {
   "cell_type": "code",
   "execution_count": 4,
   "source": [
    "model_data = {\n",
    "    'K'       : items_data['item'].nunique(),\n",
    "    'N'       : len(items_data.index),\n",
    "    'J'       : items_data['Student'].nunique(),\n",
    "    'y'   : items_data['right'].to_numpy(),\n",
    "    'kk'    : items_data['item_number_filtered'].to_numpy(),\n",
    "    'jj' : items_data['Student_number_filtered'].to_numpy()\n",
    "}\n",
    "\n",
    "model_specs = \"\"\"\n",
    "data {\n",
    "  int<lower=1> J;              // number of students\n",
    "  int<lower=1> K;              // number of questions\n",
    "  int<lower=1> N;              // number of observations\n",
    "  int<lower=1,upper=J> jj[N];  // student for observation n\n",
    "  int<lower=1,upper=K> kk[N];  // question for observation n\n",
    "  int<lower=0,upper=1> y[N];   // correctness for observation n\n",
    "}\n",
    "parameters {\n",
    "  real mu_beta;                // mean question difficulty\n",
    "  vector[J] alpha;             // ability for j - mean\n",
    "  vector[K] beta;              // difficulty for k\n",
    "  vector<lower=0>[K] gamma;    // discrimination of k\n",
    "  real<lower=0> sigma_beta;    // scale of difficulties\n",
    "  real<lower=0> sigma_gamma;   // scale of log discrimination\n",
    "}\n",
    "model {\n",
    "  alpha ~ std_normal();\n",
    "  beta ~ normal(0, sigma_beta);\n",
    "  gamma ~ lognormal(0, sigma_gamma);\n",
    "  mu_beta ~ cauchy(0, 5);\n",
    "  sigma_beta ~ cauchy(0, 5);\n",
    "  sigma_gamma ~ cauchy(0, 5);\n",
    "  y ~ bernoulli_logit(gamma[kk] .* (alpha[jj] - (beta[kk] + mu_beta)));\n",
    "}\n",
    "\"\"\""
   ],
   "outputs": [],
   "metadata": {}
  },
  {
   "cell_type": "code",
   "execution_count": 5,
   "source": [
    "sm = stan.build(program_code=model_specs, data=model_data, random_seed=4051)\n",
    "print(\"Built\")\n"
   ],
   "outputs": [
    {
     "output_type": "error",
     "ename": "RuntimeError",
     "evalue": "asyncio.run() cannot be called from a running event loop",
     "traceback": [
      "\u001b[0;31m---------------------------------------------------------------------------\u001b[0m",
      "\u001b[0;31mRuntimeError\u001b[0m                              Traceback (most recent call last)",
      "\u001b[0;32m/var/folders/lc/stkk_5mx3gq9ypk8pz7l_74w0000gn/T/ipykernel_29705/573098520.py\u001b[0m in \u001b[0;36m<module>\u001b[0;34m\u001b[0m\n\u001b[0;32m----> 1\u001b[0;31m \u001b[0msm\u001b[0m \u001b[0;34m=\u001b[0m \u001b[0mstan\u001b[0m\u001b[0;34m.\u001b[0m\u001b[0mbuild\u001b[0m\u001b[0;34m(\u001b[0m\u001b[0mprogram_code\u001b[0m\u001b[0;34m=\u001b[0m\u001b[0mmodel_specs\u001b[0m\u001b[0;34m,\u001b[0m \u001b[0mdata\u001b[0m\u001b[0;34m=\u001b[0m\u001b[0mmodel_data\u001b[0m\u001b[0;34m,\u001b[0m \u001b[0mrandom_seed\u001b[0m\u001b[0;34m=\u001b[0m\u001b[0;36m4051\u001b[0m\u001b[0;34m)\u001b[0m\u001b[0;34m\u001b[0m\u001b[0;34m\u001b[0m\u001b[0m\n\u001b[0m\u001b[1;32m      2\u001b[0m \u001b[0mprint\u001b[0m\u001b[0;34m(\u001b[0m\u001b[0;34m\"Built\"\u001b[0m\u001b[0;34m)\u001b[0m\u001b[0;34m\u001b[0m\u001b[0;34m\u001b[0m\u001b[0m\n",
      "\u001b[0;32m~/opt/anaconda3/lib/python3.8/site-packages/stan/model.py\u001b[0m in \u001b[0;36mbuild\u001b[0;34m(program_code, data, random_seed)\u001b[0m\n\u001b[1;32m    515\u001b[0m \u001b[0;34m\u001b[0m\u001b[0m\n\u001b[1;32m    516\u001b[0m     \u001b[0;32mtry\u001b[0m\u001b[0;34m:\u001b[0m\u001b[0;34m\u001b[0m\u001b[0;34m\u001b[0m\u001b[0m\n\u001b[0;32m--> 517\u001b[0;31m         \u001b[0;32mreturn\u001b[0m \u001b[0masyncio\u001b[0m\u001b[0;34m.\u001b[0m\u001b[0mrun\u001b[0m\u001b[0;34m(\u001b[0m\u001b[0mgo\u001b[0m\u001b[0;34m(\u001b[0m\u001b[0;34m)\u001b[0m\u001b[0;34m)\u001b[0m\u001b[0;34m\u001b[0m\u001b[0;34m\u001b[0m\u001b[0m\n\u001b[0m\u001b[1;32m    518\u001b[0m     \u001b[0;32mexcept\u001b[0m \u001b[0mKeyboardInterrupt\u001b[0m\u001b[0;34m:\u001b[0m\u001b[0;34m\u001b[0m\u001b[0;34m\u001b[0m\u001b[0m\n\u001b[1;32m    519\u001b[0m         \u001b[0;32mreturn\u001b[0m  \u001b[0;31m# type: ignore\u001b[0m\u001b[0;34m\u001b[0m\u001b[0;34m\u001b[0m\u001b[0m\n",
      "\u001b[0;32m~/opt/anaconda3/lib/python3.8/asyncio/runners.py\u001b[0m in \u001b[0;36mrun\u001b[0;34m(main, debug)\u001b[0m\n\u001b[1;32m     31\u001b[0m     \"\"\"\n\u001b[1;32m     32\u001b[0m     \u001b[0;32mif\u001b[0m \u001b[0mevents\u001b[0m\u001b[0;34m.\u001b[0m\u001b[0m_get_running_loop\u001b[0m\u001b[0;34m(\u001b[0m\u001b[0;34m)\u001b[0m \u001b[0;32mis\u001b[0m \u001b[0;32mnot\u001b[0m \u001b[0;32mNone\u001b[0m\u001b[0;34m:\u001b[0m\u001b[0;34m\u001b[0m\u001b[0;34m\u001b[0m\u001b[0m\n\u001b[0;32m---> 33\u001b[0;31m         raise RuntimeError(\n\u001b[0m\u001b[1;32m     34\u001b[0m             \"asyncio.run() cannot be called from a running event loop\")\n\u001b[1;32m     35\u001b[0m \u001b[0;34m\u001b[0m\u001b[0m\n",
      "\u001b[0;31mRuntimeError\u001b[0m: asyncio.run() cannot be called from a running event loop"
     ]
    }
   ],
   "metadata": {}
  },
  {
   "cell_type": "code",
   "execution_count": null,
   "source": [
    "fit = sm.sample(num_chains=4, num_samples=1000)"
   ],
   "outputs": [],
   "metadata": {}
  },
  {
   "cell_type": "code",
   "execution_count": null,
   "source": [
    "irt_res = fit.to_frame()\n",
    "irt_res.head()"
   ],
   "outputs": [],
   "metadata": {}
  },
  {
   "cell_type": "code",
   "execution_count": null,
   "source": [
    "irt_r = pd.read_pickle(\"irt_fit.pkl\")"
   ],
   "outputs": [],
   "metadata": {}
  }
 ],
 "metadata": {
  "colab": {
   "collapsed_sections": [],
   "name": "Mini-LA Assignment 1.ipynb",
   "provenance": []
  },
  "interpreter": {
   "hash": "6034267fc735e6f211b54e6db3b024727ff25aaf139d75f07ed61a9d39c58b2d"
  },
  "kernelspec": {
   "name": "python3",
   "display_name": "Python 3.8.12 64-bit ('base': conda)"
  },
  "language_info": {
   "codemirror_mode": {
    "name": "ipython",
    "version": 3
   },
   "file_extension": ".py",
   "mimetype": "text/x-python",
   "name": "python",
   "nbconvert_exporter": "python",
   "pygments_lexer": "ipython3",
   "version": "3.8.12"
  }
 },
 "nbformat": 4,
 "nbformat_minor": 4
}