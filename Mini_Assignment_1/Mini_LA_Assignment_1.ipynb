{
 "cells": [
  {
   "cell_type": "markdown",
   "metadata": {
    "id": "NwkVwEYrElO6"
   },
   "source": [
    "### Mini-LA Assignment 1: Classification and Prediction\n",
    "\n",
    "**Authors**: Mina Choi, Nicolas Dussaillant\n",
    "\n",
    "**Course**: HUDK4051 Learning Analytics: Process and Theory"
   ]
  },
  {
   "cell_type": "markdown",
   "metadata": {
    "id": "w-wSeQli8I7D"
   },
   "source": [
    "### Introduction\n",
    "\n"
   ]
  },
  {
   "cell_type": "markdown",
   "metadata": {
    "id": "XO7w3H9zNqpV"
   },
   "source": [
    "As numerous college students over-enroll in courses at the beginning of the semester then choose to drop many courses that they have enrolled in, trying to predict final course enrollments and allocate resources are a common problem for most of the universities. However, since it would be very disadvantageous for students to not have this choice in the first few weeks of the semester, the schools are not willing to take away this “add and drop” period. Alternatively, many institutions are trying to predict which students are most likely to drop out of which courses using classification and prediction algorithms with the student and course data in their system.\n",
    "\n",
    "As a result, the following work seeks to create a classifier to predict the drop out of courses in a certain college. The data was given as part of the assignment and contains information about students and courses for different years.\n",
    "\n",
    "Across this work we conducted a literature review, data description, data cleaning and preparation, feature selection, and three algorithms: Random Forests (with and without bootstrap), Support Vector Classifier, and a type of Neural Networks. To train each algorithm the sample was divided into training and testing samples with a proportion of 80%-20%. After that for each training and testing set the accuracy, precision, recall, and F1 score were measured and compared."
   ]
  },
  {
   "cell_type": "markdown",
   "metadata": {
    "id": "69W3pCSfJGWL"
   },
   "source": [
    "### Literature review\n",
    "\n",
    "  Similar to the topic for our classification and prediction assignment, Kabathova & Drlik (2021) examines multiple machine learning classifiers to predict student’s dropout in university courses. The purpose of this study is to accentuate the significance of data understanding and gathering, recognize the common circumstances that educational data researchers are in-limitations of the available or accessible datasets, and compare the performance of multiple classification algorithms in machine learning. In addition, Kabathova & Drlik (2021) proves that a limited set of features in a dataset can also predict students’ dropout with sufficient accuracy (77-93%) if the performance metrics are thoroughly and correspondingly examined.\n",
    "  This study uses the following five categories of the course features: Accesses, Assignments, Tests, Exam, and Project as independent variables and applies logistic regression, decision tree, Naive Bayes, support vector machine, random forest, and neural network algorithms to evaluate which model would be the most accurate and suitable for predicting student dropout in virtual learning environments. The variables Access, Assignments, and Tests were finally selected as the most important factors since the prediction should be made as early as possible to have enough time for intervention. Based on the precision, recall, accuracy and F1 scores, the results showed that the best prediction technique was the random forest (RF) model with an overall accuracy of 93%, followed by logistic regression, support vector machine, and decision tree algorithms. \n",
    "  A few limitations of this study include scarcity of the dataset, the limiting number of independent variables or course activities, and lack of details in the form of suitable intervention. This study could be improved by having a larger dataset, including more course features or variables that may factor into student's dropout in virtual learning settings, and examining further into how other categories of course activities would have a similar influence on students’ engagement level and for which activities they can be exchanged in the intervention phase.\n",
    "\n",
    "Kabathova, J., & Drlik, M. (2021). Towards predicting student’s dropout in university courses using different machine learning techniques. Applied Sciences, 11(7), 3130."
   ]
  },
  {
   "cell_type": "markdown",
   "metadata": {
    "id": "cPizRCqJHo2n"
   },
   "source": [
    "### Data preparation\n",
    "\n",
    "In this part we import the data and adjust the format for some of the columns. The work will be handle using pandas."
   ]
  },
  {
   "cell_type": "markdown",
   "metadata": {
    "id": "g2TzSsBdHw1j"
   },
   "source": [
    "Import libraries"
   ]
  },
  {
   "cell_type": "code",
   "execution_count": 1,
   "metadata": {
    "id": "zKlweTHSFri3"
   },
   "outputs": [],
   "source": [
    "import pandas as pd\n",
    "import sklearn as sk\n",
    "import numpy as np\n",
    "import seaborn as sns\n",
    "import matplotlib.pyplot as plt\n",
    "from datetime import date"
   ]
  },
  {
   "cell_type": "markdown",
   "metadata": {
    "id": "Gs98vMXM8Avl"
   },
   "source": [
    "Import data in the proper format"
   ]
  },
  {
   "cell_type": "code",
   "execution_count": 2,
   "metadata": {
    "id": "E-teL8lhH_qF"
   },
   "outputs": [],
   "source": [
    "#Lambda function to parse binary variables to 1 and 0.\n",
    "parse_dich = lambda x : 1 if x == \"yes\" else (0 if x == \"no\" else -1)\n",
    "\n",
    "#Some variables expressed as numbers will be treated as Strings because their numerical magnitude is not relevant\n",
    "df = pd.read_csv(\"drop-out.csv\",\n",
    "                 dtype = {\n",
    "                    \"student_id\" : str,\n",
    "                    \"course_id\" : str,\n",
    "                    \"gender\" : str,\n",
    "                    \"years\" : int,\n",
    "                    \"courses_taken\" : int,\n",
    "                    \"entrance_test_scoe\" : float,\n",
    "                    \"enroll_date_time\" : int\n",
    "                 },\n",
    "                 converters = {\n",
    "                     \"complete\" : parse_dich,\n",
    "                     \"international\" : parse_dich,\n",
    "                     \"online\" : parse_dich,\n",
    "                 })"
   ]
  },
  {
   "cell_type": "markdown",
   "metadata": {
    "id": "vms7zFo6S8aB"
   },
   "source": [
    "### Data Description\n",
    "\n",
    "In this section we check the data along with some descriptive statistics, to then select the features that will be used for the predictive algorithms."
   ]
  },
  {
   "cell_type": "code",
   "execution_count": 3,
   "metadata": {
    "colab": {
     "base_uri": "https://localhost:8080/",
     "height": 474
    },
    "id": "oKN0gsZS8TZ3",
    "outputId": "a426398b-e7ec-4855-c40a-473cf91a3074"
   },
   "outputs": [
    {
     "data": {
      "text/html": [
       "<div>\n",
       "<style scoped>\n",
       "    .dataframe tbody tr th:only-of-type {\n",
       "        vertical-align: middle;\n",
       "    }\n",
       "\n",
       "    .dataframe tbody tr th {\n",
       "        vertical-align: top;\n",
       "    }\n",
       "\n",
       "    .dataframe thead th {\n",
       "        text-align: right;\n",
       "    }\n",
       "</style>\n",
       "<table border=\"1\" class=\"dataframe\">\n",
       "  <thead>\n",
       "    <tr style=\"text-align: right;\">\n",
       "      <th></th>\n",
       "      <th>student_id</th>\n",
       "      <th>years</th>\n",
       "      <th>entrance_test_score</th>\n",
       "      <th>courses_taken</th>\n",
       "      <th>complete</th>\n",
       "      <th>enroll_date_time</th>\n",
       "      <th>course_id</th>\n",
       "      <th>international</th>\n",
       "      <th>online</th>\n",
       "      <th>gender</th>\n",
       "    </tr>\n",
       "  </thead>\n",
       "  <tbody>\n",
       "    <tr>\n",
       "      <th>0</th>\n",
       "      <td>172777</td>\n",
       "      <td>0</td>\n",
       "      <td>47.0</td>\n",
       "      <td>4</td>\n",
       "      <td>1</td>\n",
       "      <td>159227767</td>\n",
       "      <td>807728</td>\n",
       "      <td>0</td>\n",
       "      <td>0</td>\n",
       "      <td>1</td>\n",
       "    </tr>\n",
       "    <tr>\n",
       "      <th>1</th>\n",
       "      <td>172777</td>\n",
       "      <td>0</td>\n",
       "      <td>47.0</td>\n",
       "      <td>4</td>\n",
       "      <td>1</td>\n",
       "      <td>159227782</td>\n",
       "      <td>658434</td>\n",
       "      <td>0</td>\n",
       "      <td>0</td>\n",
       "      <td>1</td>\n",
       "    </tr>\n",
       "    <tr>\n",
       "      <th>2</th>\n",
       "      <td>172777</td>\n",
       "      <td>0</td>\n",
       "      <td>47.0</td>\n",
       "      <td>4</td>\n",
       "      <td>1</td>\n",
       "      <td>159227866</td>\n",
       "      <td>658463</td>\n",
       "      <td>0</td>\n",
       "      <td>0</td>\n",
       "      <td>1</td>\n",
       "    </tr>\n",
       "    <tr>\n",
       "      <th>3</th>\n",
       "      <td>172777</td>\n",
       "      <td>0</td>\n",
       "      <td>47.0</td>\n",
       "      <td>4</td>\n",
       "      <td>1</td>\n",
       "      <td>159227948</td>\n",
       "      <td>658498</td>\n",
       "      <td>0</td>\n",
       "      <td>0</td>\n",
       "      <td>1</td>\n",
       "    </tr>\n",
       "    <tr>\n",
       "      <th>4</th>\n",
       "      <td>175658</td>\n",
       "      <td>0</td>\n",
       "      <td>92.8</td>\n",
       "      <td>22</td>\n",
       "      <td>1</td>\n",
       "      <td>157446419</td>\n",
       "      <td>807728</td>\n",
       "      <td>0</td>\n",
       "      <td>0</td>\n",
       "      <td>1</td>\n",
       "    </tr>\n",
       "  </tbody>\n",
       "</table>\n",
       "</div>"
      ],
      "text/plain": [
       "  student_id  years  entrance_test_score  courses_taken  complete  \\\n",
       "0     172777      0                 47.0              4         1   \n",
       "1     172777      0                 47.0              4         1   \n",
       "2     172777      0                 47.0              4         1   \n",
       "3     172777      0                 47.0              4         1   \n",
       "4     175658      0                 92.8             22         1   \n",
       "\n",
       "   enroll_date_time course_id  international  online gender  \n",
       "0         159227767    807728              0       0      1  \n",
       "1         159227782    658434              0       0      1  \n",
       "2         159227866    658463              0       0      1  \n",
       "3         159227948    658498              0       0      1  \n",
       "4         157446419    807728              0       0      1  "
      ]
     },
     "metadata": {},
     "output_type": "display_data"
    },
    {
     "name": "stdout",
     "output_type": "stream",
     "text": [
      "Number of Rows: 5861\n",
      "Number of Different Students 682\n",
      "Number of Different Courses 35\n",
      "Courses completed:\n"
     ]
    },
    {
     "data": {
      "text/plain": [
       "1    4137\n",
       "0    1724\n",
       "Name: complete, dtype: int64"
      ]
     },
     "metadata": {},
     "output_type": "display_data"
    },
    {
     "name": "stdout",
     "output_type": "stream",
     "text": [
      "Internationals:\n"
     ]
    },
    {
     "data": {
      "text/plain": [
       "0    4997\n",
       "1     864\n",
       "Name: international, dtype: int64"
      ]
     },
     "metadata": {},
     "output_type": "display_data"
    },
    {
     "name": "stdout",
     "output_type": "stream",
     "text": [
      "Online:\n"
     ]
    },
    {
     "data": {
      "text/plain": [
       "0    4478\n",
       "1    1383\n",
       "Name: online, dtype: int64"
      ]
     },
     "metadata": {},
     "output_type": "display_data"
    }
   ],
   "source": [
    "# Check the format\n",
    "display(df.head())\n",
    "\n",
    "# Check some general data:\n",
    "print(\"Number of Rows: \" + str(len(df.index)))\n",
    "print(f\"Number of Different Students {df['student_id'].nunique()}\")\n",
    "print(f\"Number of Different Courses {df['course_id'].nunique()}\")\n",
    "print(\"Courses completed:\")\n",
    "display(df['complete'].value_counts())\n",
    "print(\"Internationals:\")\n",
    "display(df['international'].value_counts())\n",
    "print(\"Online:\")\n",
    "display(df['online'].value_counts())"
   ]
  },
  {
   "cell_type": "code",
   "execution_count": 4,
   "metadata": {
    "colab": {
     "base_uri": "https://localhost:8080/",
     "height": 265
    },
    "id": "uatl3iSL831_",
    "outputId": "01fceadd-2261-4aae-c95b-ab21a11b4d5c"
   },
   "outputs": [
    {
     "data": {
      "image/png": "[encoded data removed]",
      "text/plain": [
       "<Figure size 432x288 with 1 Axes>"
      ]
     },
     "metadata": {
      "needs_background": "light"
     },
     "output_type": "display_data"
    }
   ],
   "source": [
    "# Distribution of the years\n",
    "plt.hist(df['years'])\n",
    "plt.show()"
   ]
  },
  {
   "cell_type": "code",
   "execution_count": 5,
   "metadata": {
    "colab": {
     "base_uri": "https://localhost:8080/"
    },
    "id": "jPc-rxOa_x4Q",
    "outputId": "ae18f8f2-8c81-49c4-bf51-620ff65ff83b"
   },
   "outputs": [
    {
     "name": "stdout",
     "output_type": "stream",
     "text": [
      "Earliest date:  1974-09-25\n",
      "Latest date:  1975-02-13\n"
     ]
    }
   ],
   "source": [
    "# Check the range of enroll dates\n",
    "print(\"Earliest date: \", date.fromtimestamp(min(df.enroll_date_time)))\n",
    "print(\"Latest date: \", date.fromtimestamp(max(df.enroll_date_time)))"
   ]
  },
  {
   "cell_type": "markdown",
   "metadata": {
    "id": "RuayugCLDk5e"
   },
   "source": [
    "The dates are missing something, but if we multiply them by 10 we get more credible values:"
   ]
  },
  {
   "cell_type": "code",
   "execution_count": 6,
   "metadata": {
    "colab": {
     "base_uri": "https://localhost:8080/"
    },
    "id": "uXfAJuN4D0pE",
    "outputId": "04ee7fa9-025a-4808-f82a-b5daf8f8a916"
   },
   "outputs": [
    {
     "name": "stdout",
     "output_type": "stream",
     "text": [
      "Earliest date:  2017-05-01\n",
      "Latest date:  2021-03-07\n"
     ]
    }
   ],
   "source": [
    "df.enroll_date_time = df.enroll_date_time * 10\n",
    "print(\"Earliest date: \", date.fromtimestamp(min(df.enroll_date_time)))\n",
    "print(\"Latest date: \", date.fromtimestamp(max(df.enroll_date_time)))"
   ]
  },
  {
   "cell_type": "code",
   "execution_count": 7,
   "metadata": {
    "colab": {
     "base_uri": "https://localhost:8080/",
     "height": 282
    },
    "id": "RYWB7e3vEHha",
    "outputId": "7ec40b06-f349-4fef-ad41-a642d098af8a"
   },
   "outputs": [
    {
     "data": {
      "image/png": "[encoded data removed]",
      "text/plain": [
       "<Figure size 432x288 with 1 Axes>"
      ]
     },
     "metadata": {
      "needs_background": "light"
     },
     "output_type": "display_data"
    }
   ],
   "source": [
    "# Check the distibution of the dates\n",
    "enroll_dates = pd.DataFrame([date.fromtimestamp(x) for x in df[\"enroll_date_time\"]])\n",
    "enroll_dates_count = enroll_dates.value_counts().sort_index()\n",
    "enroll_dates_count.plot()\n",
    "plt.show()"
   ]
  },
  {
   "cell_type": "markdown",
   "metadata": {
    "id": "09VBsDudSMHY"
   },
   "source": [
    "Check the distribution per month:"
   ]
  },
  {
   "cell_type": "code",
   "execution_count": 8,
   "metadata": {
    "colab": {
     "base_uri": "https://localhost:8080/",
     "height": 298
    },
    "id": "fPDCt6r7SQPe",
    "outputId": "05f01d03-f369-44e3-fea2-81f0567d7236"
   },
   "outputs": [
    {
     "data": {
      "text/plain": [
       "<AxesSubplot:xlabel='enroll_month', ylabel='count'>"
      ]
     },
     "execution_count": 8,
     "metadata": {},
     "output_type": "execute_result"
    },
    {
     "data": {
      "image/png": "[encoded data removed]",
      "text/plain": [
       "<Figure size 432x288 with 1 Axes>"
      ]
     },
     "metadata": {
      "needs_background": "light"
     },
     "output_type": "display_data"
    }
   ],
   "source": [
    "df[\"enroll_month\"] = [date.fromtimestamp(x).strftime('%b') for x in df['enroll_date_time']]\n",
    "sns.countplot(x = \"enroll_month\", data = df, hue = \"complete\", \n",
    "              order = [\"Jan\", \"Feb\", \"Mar\", \"Apr\", \"May\", \"Jun\", \"Jul\", \"Aug\", \"Sep\", \"Oct\", \"Nov\", \"Dec\"])"
   ]
  },
  {
   "cell_type": "code",
   "execution_count": 9,
   "metadata": {
    "colab": {
     "base_uri": "https://localhost:8080/",
     "height": 1000
    },
    "id": "uhBvIC5sHs4Y",
    "outputId": "c9645046-1aa9-4ace-cb66-f29597c7fd32"
   },
   "outputs": [
    {
     "data": {
      "text/html": [
       "<div>\n",
       "<style scoped>\n",
       "    .dataframe tbody tr th:only-of-type {\n",
       "        vertical-align: middle;\n",
       "    }\n",
       "\n",
       "    .dataframe tbody tr th {\n",
       "        vertical-align: top;\n",
       "    }\n",
       "\n",
       "    .dataframe thead tr th {\n",
       "        text-align: left;\n",
       "    }\n",
       "\n",
       "    .dataframe thead tr:last-of-type th {\n",
       "        text-align: right;\n",
       "    }\n",
       "</style>\n",
       "<table border=\"1\" class=\"dataframe\">\n",
       "  <thead>\n",
       "    <tr>\n",
       "      <th></th>\n",
       "      <th colspan=\"2\" halign=\"left\">student_id</th>\n",
       "    </tr>\n",
       "    <tr>\n",
       "      <th>complete</th>\n",
       "      <th>0</th>\n",
       "      <th>1</th>\n",
       "    </tr>\n",
       "    <tr>\n",
       "      <th>course_id</th>\n",
       "      <th></th>\n",
       "      <th></th>\n",
       "    </tr>\n",
       "  </thead>\n",
       "  <tbody>\n",
       "    <tr>\n",
       "      <th>658434</th>\n",
       "      <td>465.0</td>\n",
       "      <td>407.0</td>\n",
       "    </tr>\n",
       "    <tr>\n",
       "      <th>658438</th>\n",
       "      <td>189.0</td>\n",
       "      <td>253.0</td>\n",
       "    </tr>\n",
       "    <tr>\n",
       "      <th>658439</th>\n",
       "      <td>66.0</td>\n",
       "      <td>125.0</td>\n",
       "    </tr>\n",
       "    <tr>\n",
       "      <th>658440</th>\n",
       "      <td>27.0</td>\n",
       "      <td>18.0</td>\n",
       "    </tr>\n",
       "    <tr>\n",
       "      <th>658441</th>\n",
       "      <td>24.0</td>\n",
       "      <td>38.0</td>\n",
       "    </tr>\n",
       "    <tr>\n",
       "      <th>658442</th>\n",
       "      <td>9.0</td>\n",
       "      <td>12.0</td>\n",
       "    </tr>\n",
       "    <tr>\n",
       "      <th>658443</th>\n",
       "      <td>6.0</td>\n",
       "      <td>6.0</td>\n",
       "    </tr>\n",
       "    <tr>\n",
       "      <th>658444</th>\n",
       "      <td>4.0</td>\n",
       "      <td>2.0</td>\n",
       "    </tr>\n",
       "    <tr>\n",
       "      <th>658445</th>\n",
       "      <td>1.0</td>\n",
       "      <td>1.0</td>\n",
       "    </tr>\n",
       "    <tr>\n",
       "      <th>658450</th>\n",
       "      <td>18.0</td>\n",
       "      <td>22.0</td>\n",
       "    </tr>\n",
       "    <tr>\n",
       "      <th>658463</th>\n",
       "      <td>315.0</td>\n",
       "      <td>447.0</td>\n",
       "    </tr>\n",
       "    <tr>\n",
       "      <th>658464</th>\n",
       "      <td>128.0</td>\n",
       "      <td>197.0</td>\n",
       "    </tr>\n",
       "    <tr>\n",
       "      <th>658465</th>\n",
       "      <td>41.0</td>\n",
       "      <td>41.0</td>\n",
       "    </tr>\n",
       "    <tr>\n",
       "      <th>658466</th>\n",
       "      <td>16.0</td>\n",
       "      <td>22.0</td>\n",
       "    </tr>\n",
       "    <tr>\n",
       "      <th>658467</th>\n",
       "      <td>28.0</td>\n",
       "      <td>23.0</td>\n",
       "    </tr>\n",
       "    <tr>\n",
       "      <th>658468</th>\n",
       "      <td>7.0</td>\n",
       "      <td>9.0</td>\n",
       "    </tr>\n",
       "    <tr>\n",
       "      <th>658469</th>\n",
       "      <td>NaN</td>\n",
       "      <td>1.0</td>\n",
       "    </tr>\n",
       "    <tr>\n",
       "      <th>658470</th>\n",
       "      <td>65.0</td>\n",
       "      <td>77.0</td>\n",
       "    </tr>\n",
       "    <tr>\n",
       "      <th>658472</th>\n",
       "      <td>2.0</td>\n",
       "      <td>3.0</td>\n",
       "    </tr>\n",
       "    <tr>\n",
       "      <th>658481</th>\n",
       "      <td>4.0</td>\n",
       "      <td>4.0</td>\n",
       "    </tr>\n",
       "    <tr>\n",
       "      <th>658493</th>\n",
       "      <td>2.0</td>\n",
       "      <td>5.0</td>\n",
       "    </tr>\n",
       "    <tr>\n",
       "      <th>658494</th>\n",
       "      <td>29.0</td>\n",
       "      <td>80.0</td>\n",
       "    </tr>\n",
       "    <tr>\n",
       "      <th>658495</th>\n",
       "      <td>74.0</td>\n",
       "      <td>158.0</td>\n",
       "    </tr>\n",
       "    <tr>\n",
       "      <th>658496</th>\n",
       "      <td>1.0</td>\n",
       "      <td>12.0</td>\n",
       "    </tr>\n",
       "    <tr>\n",
       "      <th>658497</th>\n",
       "      <td>9.0</td>\n",
       "      <td>39.0</td>\n",
       "    </tr>\n",
       "    <tr>\n",
       "      <th>658498</th>\n",
       "      <td>141.0</td>\n",
       "      <td>547.0</td>\n",
       "    </tr>\n",
       "    <tr>\n",
       "      <th>658499</th>\n",
       "      <td>5.0</td>\n",
       "      <td>23.0</td>\n",
       "    </tr>\n",
       "    <tr>\n",
       "      <th>658500</th>\n",
       "      <td>1.0</td>\n",
       "      <td>3.0</td>\n",
       "    </tr>\n",
       "    <tr>\n",
       "      <th>658514</th>\n",
       "      <td>23.0</td>\n",
       "      <td>48.0</td>\n",
       "    </tr>\n",
       "    <tr>\n",
       "      <th>807717</th>\n",
       "      <td>7.0</td>\n",
       "      <td>456.0</td>\n",
       "    </tr>\n",
       "    <tr>\n",
       "      <th>807728</th>\n",
       "      <td>14.0</td>\n",
       "      <td>418.0</td>\n",
       "    </tr>\n",
       "    <tr>\n",
       "      <th>807754</th>\n",
       "      <td>2.0</td>\n",
       "      <td>211.0</td>\n",
       "    </tr>\n",
       "    <tr>\n",
       "      <th>807755</th>\n",
       "      <td>1.0</td>\n",
       "      <td>98.0</td>\n",
       "    </tr>\n",
       "    <tr>\n",
       "      <th>807757</th>\n",
       "      <td>NaN</td>\n",
       "      <td>96.0</td>\n",
       "    </tr>\n",
       "    <tr>\n",
       "      <th>807758</th>\n",
       "      <td>NaN</td>\n",
       "      <td>235.0</td>\n",
       "    </tr>\n",
       "  </tbody>\n",
       "</table>\n",
       "</div>"
      ],
      "text/plain": [
       "          student_id       \n",
       "complete           0      1\n",
       "course_id                  \n",
       "658434         465.0  407.0\n",
       "658438         189.0  253.0\n",
       "658439          66.0  125.0\n",
       "658440          27.0   18.0\n",
       "658441          24.0   38.0\n",
       "658442           9.0   12.0\n",
       "658443           6.0    6.0\n",
       "658444           4.0    2.0\n",
       "658445           1.0    1.0\n",
       "658450          18.0   22.0\n",
       "658463         315.0  447.0\n",
       "658464         128.0  197.0\n",
       "658465          41.0   41.0\n",
       "658466          16.0   22.0\n",
       "658467          28.0   23.0\n",
       "658468           7.0    9.0\n",
       "658469           NaN    1.0\n",
       "658470          65.0   77.0\n",
       "658472           2.0    3.0\n",
       "658481           4.0    4.0\n",
       "658493           2.0    5.0\n",
       "658494          29.0   80.0\n",
       "658495          74.0  158.0\n",
       "658496           1.0   12.0\n",
       "658497           9.0   39.0\n",
       "658498         141.0  547.0\n",
       "658499           5.0   23.0\n",
       "658500           1.0    3.0\n",
       "658514          23.0   48.0\n",
       "807717           7.0  456.0\n",
       "807728          14.0  418.0\n",
       "807754           2.0  211.0\n",
       "807755           1.0   98.0\n",
       "807757           NaN   96.0\n",
       "807758           NaN  235.0"
      ]
     },
     "execution_count": 9,
     "metadata": {},
     "output_type": "execute_result"
    }
   ],
   "source": [
    "#Check the courses enrolled and completed quantities\n",
    "pd.pivot_table(df[[\"student_id\", \"course_id\", \"complete\"]], values=[\"student_id\"], index=[\"course_id\"], columns=[\"complete\"], aggfunc='count')"
   ]
  },
  {
   "cell_type": "code",
   "execution_count": 10,
   "metadata": {
    "colab": {
     "base_uri": "https://localhost:8080/",
     "height": 739
    },
    "id": "UqkerrdAIgxH",
    "outputId": "7140437d-ad69-4199-b74f-e6ee9607353a"
   },
   "outputs": [
    {
     "data": {
      "text/html": [
       "<div>\n",
       "<style scoped>\n",
       "    .dataframe tbody tr th:only-of-type {\n",
       "        vertical-align: middle;\n",
       "    }\n",
       "\n",
       "    .dataframe tbody tr th {\n",
       "        vertical-align: top;\n",
       "    }\n",
       "\n",
       "    .dataframe thead th {\n",
       "        text-align: right;\n",
       "    }\n",
       "</style>\n",
       "<table border=\"1\" class=\"dataframe\">\n",
       "  <thead>\n",
       "    <tr style=\"text-align: right;\">\n",
       "      <th></th>\n",
       "      <th>student_id</th>\n",
       "      <th>years</th>\n",
       "      <th>entrance_test_score</th>\n",
       "      <th>courses_taken</th>\n",
       "      <th>complete</th>\n",
       "      <th>enroll_date_time</th>\n",
       "      <th>course_id</th>\n",
       "      <th>international</th>\n",
       "      <th>online</th>\n",
       "      <th>gender</th>\n",
       "      <th>enroll_month</th>\n",
       "    </tr>\n",
       "  </thead>\n",
       "  <tbody>\n",
       "    <tr>\n",
       "      <th>4</th>\n",
       "      <td>175658</td>\n",
       "      <td>0</td>\n",
       "      <td>92.8</td>\n",
       "      <td>22</td>\n",
       "      <td>1</td>\n",
       "      <td>1574464190</td>\n",
       "      <td>807728</td>\n",
       "      <td>0</td>\n",
       "      <td>0</td>\n",
       "      <td>1</td>\n",
       "      <td>Nov</td>\n",
       "    </tr>\n",
       "    <tr>\n",
       "      <th>5</th>\n",
       "      <td>175658</td>\n",
       "      <td>5</td>\n",
       "      <td>92.8</td>\n",
       "      <td>22</td>\n",
       "      <td>0</td>\n",
       "      <td>1574464240</td>\n",
       "      <td>658434</td>\n",
       "      <td>0</td>\n",
       "      <td>0</td>\n",
       "      <td>1</td>\n",
       "      <td>Nov</td>\n",
       "    </tr>\n",
       "    <tr>\n",
       "      <th>6</th>\n",
       "      <td>175658</td>\n",
       "      <td>4</td>\n",
       "      <td>92.8</td>\n",
       "      <td>22</td>\n",
       "      <td>0</td>\n",
       "      <td>1574464410</td>\n",
       "      <td>658463</td>\n",
       "      <td>0</td>\n",
       "      <td>0</td>\n",
       "      <td>1</td>\n",
       "      <td>Nov</td>\n",
       "    </tr>\n",
       "    <tr>\n",
       "      <th>7</th>\n",
       "      <td>175658</td>\n",
       "      <td>4</td>\n",
       "      <td>92.8</td>\n",
       "      <td>22</td>\n",
       "      <td>0</td>\n",
       "      <td>1574464490</td>\n",
       "      <td>658498</td>\n",
       "      <td>0</td>\n",
       "      <td>0</td>\n",
       "      <td>1</td>\n",
       "      <td>Nov</td>\n",
       "    </tr>\n",
       "    <tr>\n",
       "      <th>8</th>\n",
       "      <td>175658</td>\n",
       "      <td>0</td>\n",
       "      <td>92.8</td>\n",
       "      <td>22</td>\n",
       "      <td>1</td>\n",
       "      <td>1574464580</td>\n",
       "      <td>807754</td>\n",
       "      <td>0</td>\n",
       "      <td>0</td>\n",
       "      <td>1</td>\n",
       "      <td>Nov</td>\n",
       "    </tr>\n",
       "    <tr>\n",
       "      <th>9</th>\n",
       "      <td>175658</td>\n",
       "      <td>5</td>\n",
       "      <td>92.8</td>\n",
       "      <td>22</td>\n",
       "      <td>0</td>\n",
       "      <td>1574464630</td>\n",
       "      <td>658438</td>\n",
       "      <td>0</td>\n",
       "      <td>0</td>\n",
       "      <td>1</td>\n",
       "      <td>Nov</td>\n",
       "    </tr>\n",
       "    <tr>\n",
       "      <th>10</th>\n",
       "      <td>175658</td>\n",
       "      <td>4</td>\n",
       "      <td>92.8</td>\n",
       "      <td>22</td>\n",
       "      <td>0</td>\n",
       "      <td>1574464700</td>\n",
       "      <td>658464</td>\n",
       "      <td>0</td>\n",
       "      <td>0</td>\n",
       "      <td>1</td>\n",
       "      <td>Nov</td>\n",
       "    </tr>\n",
       "    <tr>\n",
       "      <th>11</th>\n",
       "      <td>175658</td>\n",
       "      <td>4</td>\n",
       "      <td>92.8</td>\n",
       "      <td>22</td>\n",
       "      <td>0</td>\n",
       "      <td>1574464760</td>\n",
       "      <td>658495</td>\n",
       "      <td>0</td>\n",
       "      <td>0</td>\n",
       "      <td>1</td>\n",
       "      <td>Nov</td>\n",
       "    </tr>\n",
       "    <tr>\n",
       "      <th>12</th>\n",
       "      <td>175658</td>\n",
       "      <td>0</td>\n",
       "      <td>92.8</td>\n",
       "      <td>22</td>\n",
       "      <td>1</td>\n",
       "      <td>1574464840</td>\n",
       "      <td>807755</td>\n",
       "      <td>0</td>\n",
       "      <td>0</td>\n",
       "      <td>1</td>\n",
       "      <td>Nov</td>\n",
       "    </tr>\n",
       "    <tr>\n",
       "      <th>13</th>\n",
       "      <td>175658</td>\n",
       "      <td>5</td>\n",
       "      <td>92.8</td>\n",
       "      <td>22</td>\n",
       "      <td>0</td>\n",
       "      <td>1574464910</td>\n",
       "      <td>658439</td>\n",
       "      <td>0</td>\n",
       "      <td>0</td>\n",
       "      <td>1</td>\n",
       "      <td>Nov</td>\n",
       "    </tr>\n",
       "    <tr>\n",
       "      <th>14</th>\n",
       "      <td>175658</td>\n",
       "      <td>4</td>\n",
       "      <td>92.8</td>\n",
       "      <td>22</td>\n",
       "      <td>0</td>\n",
       "      <td>1574750410</td>\n",
       "      <td>658470</td>\n",
       "      <td>0</td>\n",
       "      <td>0</td>\n",
       "      <td>1</td>\n",
       "      <td>Nov</td>\n",
       "    </tr>\n",
       "    <tr>\n",
       "      <th>15</th>\n",
       "      <td>175658</td>\n",
       "      <td>4</td>\n",
       "      <td>92.8</td>\n",
       "      <td>22</td>\n",
       "      <td>0</td>\n",
       "      <td>1574750450</td>\n",
       "      <td>658494</td>\n",
       "      <td>0</td>\n",
       "      <td>0</td>\n",
       "      <td>1</td>\n",
       "      <td>Nov</td>\n",
       "    </tr>\n",
       "    <tr>\n",
       "      <th>16</th>\n",
       "      <td>175658</td>\n",
       "      <td>5</td>\n",
       "      <td>92.8</td>\n",
       "      <td>22</td>\n",
       "      <td>0</td>\n",
       "      <td>1574750480</td>\n",
       "      <td>658440</td>\n",
       "      <td>0</td>\n",
       "      <td>0</td>\n",
       "      <td>1</td>\n",
       "      <td>Nov</td>\n",
       "    </tr>\n",
       "    <tr>\n",
       "      <th>17</th>\n",
       "      <td>175658</td>\n",
       "      <td>0</td>\n",
       "      <td>92.8</td>\n",
       "      <td>22</td>\n",
       "      <td>1</td>\n",
       "      <td>1575834770</td>\n",
       "      <td>658465</td>\n",
       "      <td>0</td>\n",
       "      <td>0</td>\n",
       "      <td>1</td>\n",
       "      <td>Dec</td>\n",
       "    </tr>\n",
       "    <tr>\n",
       "      <th>18</th>\n",
       "      <td>175658</td>\n",
       "      <td>0</td>\n",
       "      <td>92.8</td>\n",
       "      <td>22</td>\n",
       "      <td>1</td>\n",
       "      <td>1575835490</td>\n",
       "      <td>658514</td>\n",
       "      <td>0</td>\n",
       "      <td>0</td>\n",
       "      <td>1</td>\n",
       "      <td>Dec</td>\n",
       "    </tr>\n",
       "    <tr>\n",
       "      <th>19</th>\n",
       "      <td>175658</td>\n",
       "      <td>0</td>\n",
       "      <td>92.8</td>\n",
       "      <td>22</td>\n",
       "      <td>1</td>\n",
       "      <td>1575835720</td>\n",
       "      <td>658441</td>\n",
       "      <td>0</td>\n",
       "      <td>0</td>\n",
       "      <td>1</td>\n",
       "      <td>Dec</td>\n",
       "    </tr>\n",
       "    <tr>\n",
       "      <th>20</th>\n",
       "      <td>175658</td>\n",
       "      <td>4</td>\n",
       "      <td>92.8</td>\n",
       "      <td>22</td>\n",
       "      <td>0</td>\n",
       "      <td>1575835980</td>\n",
       "      <td>658467</td>\n",
       "      <td>0</td>\n",
       "      <td>0</td>\n",
       "      <td>1</td>\n",
       "      <td>Dec</td>\n",
       "    </tr>\n",
       "    <tr>\n",
       "      <th>21</th>\n",
       "      <td>175658</td>\n",
       "      <td>0</td>\n",
       "      <td>92.8</td>\n",
       "      <td>22</td>\n",
       "      <td>1</td>\n",
       "      <td>1575836350</td>\n",
       "      <td>658497</td>\n",
       "      <td>0</td>\n",
       "      <td>0</td>\n",
       "      <td>1</td>\n",
       "      <td>Dec</td>\n",
       "    </tr>\n",
       "    <tr>\n",
       "      <th>22</th>\n",
       "      <td>175658</td>\n",
       "      <td>0</td>\n",
       "      <td>92.8</td>\n",
       "      <td>22</td>\n",
       "      <td>1</td>\n",
       "      <td>1575836460</td>\n",
       "      <td>658450</td>\n",
       "      <td>0</td>\n",
       "      <td>0</td>\n",
       "      <td>1</td>\n",
       "      <td>Dec</td>\n",
       "    </tr>\n",
       "    <tr>\n",
       "      <th>23</th>\n",
       "      <td>175658</td>\n",
       "      <td>0</td>\n",
       "      <td>92.8</td>\n",
       "      <td>22</td>\n",
       "      <td>1</td>\n",
       "      <td>1575836970</td>\n",
       "      <td>658466</td>\n",
       "      <td>0</td>\n",
       "      <td>0</td>\n",
       "      <td>1</td>\n",
       "      <td>Dec</td>\n",
       "    </tr>\n",
       "    <tr>\n",
       "      <th>24</th>\n",
       "      <td>175658</td>\n",
       "      <td>0</td>\n",
       "      <td>92.8</td>\n",
       "      <td>22</td>\n",
       "      <td>1</td>\n",
       "      <td>1576689480</td>\n",
       "      <td>658499</td>\n",
       "      <td>0</td>\n",
       "      <td>0</td>\n",
       "      <td>1</td>\n",
       "      <td>Dec</td>\n",
       "    </tr>\n",
       "    <tr>\n",
       "      <th>25</th>\n",
       "      <td>175658</td>\n",
       "      <td>1</td>\n",
       "      <td>92.8</td>\n",
       "      <td>22</td>\n",
       "      <td>0</td>\n",
       "      <td>1576689520</td>\n",
       "      <td>658442</td>\n",
       "      <td>0</td>\n",
       "      <td>0</td>\n",
       "      <td>1</td>\n",
       "      <td>Dec</td>\n",
       "    </tr>\n",
       "  </tbody>\n",
       "</table>\n",
       "</div>"
      ],
      "text/plain": [
       "   student_id  years  entrance_test_score  courses_taken  complete  \\\n",
       "4      175658      0                 92.8             22         1   \n",
       "5      175658      5                 92.8             22         0   \n",
       "6      175658      4                 92.8             22         0   \n",
       "7      175658      4                 92.8             22         0   \n",
       "8      175658      0                 92.8             22         1   \n",
       "9      175658      5                 92.8             22         0   \n",
       "10     175658      4                 92.8             22         0   \n",
       "11     175658      4                 92.8             22         0   \n",
       "12     175658      0                 92.8             22         1   \n",
       "13     175658      5                 92.8             22         0   \n",
       "14     175658      4                 92.8             22         0   \n",
       "15     175658      4                 92.8             22         0   \n",
       "16     175658      5                 92.8             22         0   \n",
       "17     175658      0                 92.8             22         1   \n",
       "18     175658      0                 92.8             22         1   \n",
       "19     175658      0                 92.8             22         1   \n",
       "20     175658      4                 92.8             22         0   \n",
       "21     175658      0                 92.8             22         1   \n",
       "22     175658      0                 92.8             22         1   \n",
       "23     175658      0                 92.8             22         1   \n",
       "24     175658      0                 92.8             22         1   \n",
       "25     175658      1                 92.8             22         0   \n",
       "\n",
       "    enroll_date_time course_id  international  online gender enroll_month  \n",
       "4         1574464190    807728              0       0      1          Nov  \n",
       "5         1574464240    658434              0       0      1          Nov  \n",
       "6         1574464410    658463              0       0      1          Nov  \n",
       "7         1574464490    658498              0       0      1          Nov  \n",
       "8         1574464580    807754              0       0      1          Nov  \n",
       "9         1574464630    658438              0       0      1          Nov  \n",
       "10        1574464700    658464              0       0      1          Nov  \n",
       "11        1574464760    658495              0       0      1          Nov  \n",
       "12        1574464840    807755              0       0      1          Nov  \n",
       "13        1574464910    658439              0       0      1          Nov  \n",
       "14        1574750410    658470              0       0      1          Nov  \n",
       "15        1574750450    658494              0       0      1          Nov  \n",
       "16        1574750480    658440              0       0      1          Nov  \n",
       "17        1575834770    658465              0       0      1          Dec  \n",
       "18        1575835490    658514              0       0      1          Dec  \n",
       "19        1575835720    658441              0       0      1          Dec  \n",
       "20        1575835980    658467              0       0      1          Dec  \n",
       "21        1575836350    658497              0       0      1          Dec  \n",
       "22        1575836460    658450              0       0      1          Dec  \n",
       "23        1575836970    658466              0       0      1          Dec  \n",
       "24        1576689480    658499              0       0      1          Dec  \n",
       "25        1576689520    658442              0       0      1          Dec  "
      ]
     },
     "metadata": {},
     "output_type": "display_data"
    }
   ],
   "source": [
    "# Check one student with multiple years:\n",
    "display(df[df.student_id == \"175658\"])"
   ]
  },
  {
   "cell_type": "markdown",
   "metadata": {
    "id": "UNxevsZdI85u"
   },
   "source": [
    "For different years the number of courses enrolled is the same. In this case, the student has different rows for different years, but all the courses_taken are the same regardless the year."
   ]
  },
  {
   "cell_type": "code",
   "execution_count": 11,
   "metadata": {
    "colab": {
     "base_uri": "https://localhost:8080/",
     "height": 568
    },
    "id": "UlBBSpzQJEMd",
    "outputId": "10bc0407-6cd5-4341-cef4-ccb4a456653d"
   },
   "outputs": [
    {
     "data": {
      "text/plain": [
       "<seaborn.axisgrid.PairGrid at 0x7f8fac023790>"
      ]
     },
     "execution_count": 11,
     "metadata": {},
     "output_type": "execute_result"
    },
    {
     "data": {
      "image/png": "[encoded data removed]",
      "text/plain": [
       "<Figure size 594.375x540 with 12 Axes>"
      ]
     },
     "metadata": {
      "needs_background": "light"
     },
     "output_type": "display_data"
    }
   ],
   "source": [
    "# Check relations between continuos variables and the course completed\n",
    "sns.pairplot(df, hue = \"complete\", vars = [\"years\", \"entrance_test_score\", \"courses_taken\"])"
   ]
  },
  {
   "cell_type": "code",
   "execution_count": 12,
   "metadata": {
    "colab": {
     "base_uri": "https://localhost:8080/",
     "height": 363
    },
    "id": "Y_Nk7wOJLn2p",
    "outputId": "b5b2453f-e839-4a4b-b374-de95583247a7"
   },
   "outputs": [
    {
     "data": {
      "text/html": [
       "<div>\n",
       "<style scoped>\n",
       "    .dataframe tbody tr th:only-of-type {\n",
       "        vertical-align: middle;\n",
       "    }\n",
       "\n",
       "    .dataframe tbody tr th {\n",
       "        vertical-align: top;\n",
       "    }\n",
       "\n",
       "    .dataframe thead tr th {\n",
       "        text-align: left;\n",
       "    }\n",
       "\n",
       "    .dataframe thead tr:last-of-type th {\n",
       "        text-align: right;\n",
       "    }\n",
       "</style>\n",
       "<table border=\"1\" class=\"dataframe\">\n",
       "  <thead>\n",
       "    <tr>\n",
       "      <th></th>\n",
       "      <th colspan=\"2\" halign=\"left\">student_id</th>\n",
       "    </tr>\n",
       "    <tr>\n",
       "      <th>complete</th>\n",
       "      <th>0</th>\n",
       "      <th>1</th>\n",
       "    </tr>\n",
       "    <tr>\n",
       "      <th>years</th>\n",
       "      <th></th>\n",
       "      <th></th>\n",
       "    </tr>\n",
       "  </thead>\n",
       "  <tbody>\n",
       "    <tr>\n",
       "      <th>0</th>\n",
       "      <td>734.0</td>\n",
       "      <td>4137.0</td>\n",
       "    </tr>\n",
       "    <tr>\n",
       "      <th>1</th>\n",
       "      <td>140.0</td>\n",
       "      <td>NaN</td>\n",
       "    </tr>\n",
       "    <tr>\n",
       "      <th>2</th>\n",
       "      <td>41.0</td>\n",
       "      <td>NaN</td>\n",
       "    </tr>\n",
       "    <tr>\n",
       "      <th>3</th>\n",
       "      <td>29.0</td>\n",
       "      <td>NaN</td>\n",
       "    </tr>\n",
       "    <tr>\n",
       "      <th>4</th>\n",
       "      <td>453.0</td>\n",
       "      <td>NaN</td>\n",
       "    </tr>\n",
       "    <tr>\n",
       "      <th>5</th>\n",
       "      <td>323.0</td>\n",
       "      <td>NaN</td>\n",
       "    </tr>\n",
       "    <tr>\n",
       "      <th>8</th>\n",
       "      <td>1.0</td>\n",
       "      <td>NaN</td>\n",
       "    </tr>\n",
       "    <tr>\n",
       "      <th>10</th>\n",
       "      <td>3.0</td>\n",
       "      <td>NaN</td>\n",
       "    </tr>\n",
       "  </tbody>\n",
       "</table>\n",
       "</div>"
      ],
      "text/plain": [
       "         student_id        \n",
       "complete          0       1\n",
       "years                      \n",
       "0             734.0  4137.0\n",
       "1             140.0     NaN\n",
       "2              41.0     NaN\n",
       "3              29.0     NaN\n",
       "4             453.0     NaN\n",
       "5             323.0     NaN\n",
       "8               1.0     NaN\n",
       "10              3.0     NaN"
      ]
     },
     "execution_count": 12,
     "metadata": {},
     "output_type": "execute_result"
    }
   ],
   "source": [
    "# Check the completeness per year\n",
    "pd.pivot_table(df[[\"student_id\", \"years\", \"complete\"]], values=[\"student_id\"], index=[\"years\"], columns=[\"complete\"], aggfunc='count')"
   ]
  },
  {
   "cell_type": "markdown",
   "metadata": {
    "id": "oHG4_9JbJZ8F"
   },
   "source": [
    "### Feature Selection\n",
    "Based on the analyses above, we will select, modify, filter and create the features for the algorithms."
   ]
  },
  {
   "cell_type": "code",
   "execution_count": 13,
   "metadata": {
    "id": "TJZd8Y9eM8An"
   },
   "outputs": [],
   "source": [
    "df_analysis = df.copy()"
   ]
  },
  {
   "cell_type": "markdown",
   "metadata": {
    "id": "59xg3zlpMP4u"
   },
   "source": [
    "**Course**\n",
    "\n",
    "The course is important to determine if a student will dropout, so we compute it as dummy variables:"
   ]
  },
  {
   "cell_type": "code",
   "execution_count": 14,
   "metadata": {
    "id": "t-rZuoJ2MdkU"
   },
   "outputs": [],
   "source": [
    "df_analysis = pd.concat([df, pd.get_dummies(df_analysis['course_id'], prefix=\"C\")], axis=1)"
   ]
  },
  {
   "cell_type": "markdown",
   "metadata": {
    "id": "BQjrMMZIOCvs"
   },
   "source": [
    "**Years:**\n",
    "\n",
    "As seen in the last histogram from the last section, every student not from first year is marked as not completed. Because that would mean that predicting for students not in year 0 would be deterministic, we will drop all of those cases."
   ]
  },
  {
   "cell_type": "code",
   "execution_count": 15,
   "metadata": {
    "id": "4D7mul9NOXus"
   },
   "outputs": [],
   "source": [
    "df_analysis.drop(df_analysis[df_analysis.years != 0].index, inplace=True)"
   ]
  },
  {
   "cell_type": "markdown",
   "metadata": {
    "id": "P8gKYhwtOgOW"
   },
   "source": [
    "**Courses taken**\n",
    "\n",
    "Since, as we saw before, the courses are cumulative even for different years, we will readjust that variable as an aggregation for courses taken in year 0 by each student. That way that variable will make more sense."
   ]
  },
  {
   "cell_type": "code",
   "execution_count": 16,
   "metadata": {
    "id": "odjF885wOzrK"
   },
   "outputs": [],
   "source": [
    "df_aux = df_analysis[[\"student_id\", \"course_id\"]].groupby(by=\"student_id\").count()\n",
    "df_analysis = df_analysis.merge(df_aux, on = \"student_id\", how = \"left\", suffixes = (\"\", \"_count\"))"
   ]
  },
  {
   "cell_type": "markdown",
   "metadata": {
    "id": "IzmWux2DdcI4"
   },
   "source": [
    "**Test Score**\n",
    "\n",
    "Since a lot of students have 0 in their entrance test score, we assume that those students didn't take the test. To acknowledge that, we create a binary variable that takes the impact of whether the student has a score or not. The test score in its original scale will remain usable and it will represent the interaction between those columns."
   ]
  },
  {
   "cell_type": "code",
   "execution_count": 17,
   "metadata": {
    "id": "3v18h7zweNb8"
   },
   "outputs": [],
   "source": [
    "df_analysis[\"has_test\"] = (df_analysis[\"entrance_test_score\"] > 0) * 1"
   ]
  },
  {
   "cell_type": "markdown",
   "metadata": {
    "id": "AZHpEyNleYZ0"
   },
   "source": [
    "**Enroll date**\n",
    "\n",
    "As seen in the previous section, it could be a better idea to use months instead the whole date. We will compute this as dummy variables to avoid the numerical value of months."
   ]
  },
  {
   "cell_type": "code",
   "execution_count": 18,
   "metadata": {
    "id": "zZvkhxvse2kc"
   },
   "outputs": [],
   "source": [
    "df_analysis = pd.concat([df_analysis, pd.get_dummies(df_analysis['enroll_month'])], axis=1)"
   ]
  },
  {
   "cell_type": "markdown",
   "metadata": {
    "id": "jqWsHYmefXL1"
   },
   "source": [
    "**Gender**\n",
    "\n",
    "Since this dataset includes more than 2 gender, we compute gender as dummy variables."
   ]
  },
  {
   "cell_type": "code",
   "execution_count": 19,
   "metadata": {
    "id": "CIgLE2gBfK1M"
   },
   "outputs": [],
   "source": [
    "df_analysis = pd.concat([df_analysis, pd.get_dummies(df_analysis['gender'], prefix=\"gender\")], axis=1)"
   ]
  },
  {
   "cell_type": "markdown",
   "metadata": {
    "id": "GmkB6Jcnfqbf"
   },
   "source": [
    "**Online** and **International**\n",
    "\n",
    "Bothe variables remain the same."
   ]
  },
  {
   "cell_type": "markdown",
   "metadata": {
    "id": "4nv7Q2psf2KA"
   },
   "source": [
    "**Last preparation**\n",
    "\n",
    "After the feature selection, we create the dataframe for the further predictions. We select just the columns with the features we will use and we keep the rows in the format as unique combinations of student-course."
   ]
  },
  {
   "cell_type": "code",
   "execution_count": 20,
   "metadata": {
    "colab": {
     "base_uri": "https://localhost:8080/",
     "height": 213
    },
    "id": "n2IUQMIMg0gG",
    "outputId": "c0afabac-2a1a-4951-bfe7-374a47cb0e23"
   },
   "outputs": [
    {
     "data": {
      "text/plain": [
       "Index(['entrance_test_score', 'complete', 'international', 'online',\n",
       "       'C_658434', 'C_658438', 'C_658439', 'C_658440', 'C_658441', 'C_658442',\n",
       "       'C_658443', 'C_658444', 'C_658445', 'C_658450', 'C_658463', 'C_658464',\n",
       "       'C_658465', 'C_658466', 'C_658467', 'C_658468', 'C_658469', 'C_658470',\n",
       "       'C_658472', 'C_658481', 'C_658493', 'C_658494', 'C_658495', 'C_658496',\n",
       "       'C_658497', 'C_658498', 'C_658499', 'C_658500', 'C_658514', 'C_807717',\n",
       "       'C_807728', 'C_807754', 'C_807755', 'C_807757', 'C_807758',\n",
       "       'course_id_count', 'has_test', 'Apr', 'Aug', 'Dec', 'Feb', 'Jan', 'Jul',\n",
       "       'Jun', 'Mar', 'May', 'Nov', 'Oct', 'Sep', 'gender_1', 'gender_2',\n",
       "       'gender_3', 'gender_4', 'gender_5'],\n",
       "      dtype='object')"
      ]
     },
     "metadata": {},
     "output_type": "display_data"
    }
   ],
   "source": [
    "df_algorithms = df_analysis.drop(columns = [\"student_id\", \"courses_taken\", \n",
    "                                            \"enroll_date_time\", \"course_id\", \"years\",\n",
    "                                            \"gender\", \"enroll_month\"])\n",
    "display(df_algorithms.columns)\n",
    "\n",
    "X = df_algorithms.drop(columns=[\"complete\"])\n",
    "y = df_algorithms.complete"
   ]
  },
  {
   "cell_type": "markdown",
   "metadata": {
    "id": "3lCZB2rsmN9X"
   },
   "source": [
    "## Algorithms\n",
    "\n",
    "In this section we evaluate the different algorithms. For that, we split the sample into training and testing samples, in a 80-20 proportion."
   ]
  },
  {
   "cell_type": "code",
   "execution_count": 21,
   "metadata": {
    "id": "uOYT_FdNmgaG"
   },
   "outputs": [],
   "source": [
    "from sklearn.model_selection import train_test_split\n",
    "X_train, X_test, y_train, y_test = train_test_split(X, y, test_size=0.2, random_state=4051)"
   ]
  },
  {
   "cell_type": "markdown",
   "metadata": {
    "id": "0iK2wb8twLW2"
   },
   "source": [
    "We will evaluate for each algorithm its accuracy, recall, precision and f1 score. For that we create a dataframe and a function to fill it, so we will have a summary for the discussion."
   ]
  },
  {
   "cell_type": "code",
   "execution_count": 22,
   "metadata": {
    "id": "6_Zwzb4SwfRH"
   },
   "outputs": [],
   "source": [
    "from sklearn.metrics import confusion_matrix, f1_score, recall_score, precision_score, accuracy_score, classification_report\n",
    "\n",
    "prediction_results = pd.DataFrame(columns = ['algorithm', 'accuracy_train', 'precision_train', 'recall_train', 'f1_train',\n",
    "                                                          'accuracy_test', 'precision_test', 'recall_test', 'f1_test'])\n",
    "\n",
    "def evaluate_alg(name, model, X_train, y_train, X_test, y_test):\n",
    "    model.fit(X_train, y_train)\n",
    "    y_train_pred = model.predict(X_train)\n",
    "    y_test_pred = model.predict(X_test)\n",
    "\n",
    "    accuracy_train = accuracy_score(y_train, y_train_pred)\n",
    "    recall_train = recall_score(y_train, y_train_pred)\n",
    "    precision_train = precision_score(y_train, y_train_pred)\n",
    "    f1_train = f1_score(y_train, y_train_pred)\n",
    "\n",
    "    accuracy_test = accuracy_score(y_test, y_test_pred)\n",
    "    recall_test = recall_score(y_test, y_test_pred)\n",
    "    precision_test = precision_score(y_test, y_test_pred)\n",
    "    f1_test = f1_score(y_test, y_test_pred)\n",
    "\n",
    "    row = [name, accuracy_train, precision_train, recall_train, f1_train,\n",
    "           accuracy_test, precision_test, recall_test, f1_test]\n",
    "    \n",
    "    # Add row to the results df\n",
    "    global prediction_results\n",
    "\n",
    "    prediction_results.loc[-1] = row\n",
    "    prediction_results.index = prediction_results.index + 1\n",
    "    prediction_results = prediction_results.sort_index()\n",
    "\n",
    "    print(\"Training set:\")\n",
    "    print(classification_report(y_test, y_test_pred))\n",
    "\n",
    "    print(\"Testing set:\")\n",
    "    print(classification_report(y_test, y_test_pred))\n",
    "\n",
    "    return confusion_matrix(y_test, y_test_pred)\n"
   ]
  },
  {
   "cell_type": "markdown",
   "metadata": {
    "id": "F2szeXtxJNl7"
   },
   "source": [
    "### First algorithm: *Random Forest*"
   ]
  },
  {
   "cell_type": "code",
   "execution_count": 23,
   "metadata": {
    "colab": {
     "base_uri": "https://localhost:8080/"
    },
    "id": "KBKJoczJi2Jl",
    "outputId": "0c8fbde9-3b41-4661-c22d-966c121b0c66"
   },
   "outputs": [
    {
     "name": "stdout",
     "output_type": "stream",
     "text": [
      "Training set:\n",
      "              precision    recall  f1-score   support\n",
      "\n",
      "           0       0.40      0.28      0.33       144\n",
      "           1       0.88      0.93      0.90       831\n",
      "\n",
      "    accuracy                           0.83       975\n",
      "   macro avg       0.64      0.60      0.62       975\n",
      "weighted avg       0.81      0.83      0.82       975\n",
      "\n",
      "Testing set:\n",
      "              precision    recall  f1-score   support\n",
      "\n",
      "           0       0.40      0.28      0.33       144\n",
      "           1       0.88      0.93      0.90       831\n",
      "\n",
      "    accuracy                           0.83       975\n",
      "   macro avg       0.64      0.60      0.62       975\n",
      "weighted avg       0.81      0.83      0.82       975\n",
      "\n",
      "Training set:\n",
      "              precision    recall  f1-score   support\n",
      "\n",
      "           0       0.48      0.26      0.33       144\n",
      "           1       0.88      0.95      0.91       831\n",
      "\n",
      "    accuracy                           0.85       975\n",
      "   macro avg       0.68      0.60      0.62       975\n",
      "weighted avg       0.82      0.85      0.83       975\n",
      "\n",
      "Testing set:\n",
      "              precision    recall  f1-score   support\n",
      "\n",
      "           0       0.48      0.26      0.33       144\n",
      "           1       0.88      0.95      0.91       831\n",
      "\n",
      "    accuracy                           0.85       975\n",
      "   macro avg       0.68      0.60      0.62       975\n",
      "weighted avg       0.82      0.85      0.83       975\n",
      "\n"
     ]
    },
    {
     "data": {
      "text/plain": [
       "array([[ 37, 107],\n",
       "       [ 40, 791]])"
      ]
     },
     "execution_count": 23,
     "metadata": {},
     "output_type": "execute_result"
    }
   ],
   "source": [
    "from sklearn.ensemble import RandomForestClassifier\n",
    "forest = RandomForestClassifier(n_estimators = 100, bootstrap = False, random_state = 4051)\n",
    "forest_bootstrap = RandomForestClassifier(n_estimators = 100, bootstrap = True, random_state = 4051)\n",
    "\n",
    "evaluate_alg(\"Random Forest\", forest, X_train, y_train, X_test, y_test)\n",
    "evaluate_alg(\"Random Forest (bootstrap)\", forest_bootstrap, X_train, y_train, X_test, y_test)"
   ]
  },
  {
   "cell_type": "markdown",
   "metadata": {
    "id": "GtLHnT81JSJX"
   },
   "source": [
    "### Second algorithm: *Support Vector Machine*"
   ]
  },
  {
   "cell_type": "code",
   "execution_count": 24,
   "metadata": {
    "colab": {
     "base_uri": "https://localhost:8080/"
    },
    "id": "3fJ4DOMVCZVv",
    "outputId": "2eced550-44b8-4b3e-cd6f-bdc2eaf42696"
   },
   "outputs": [
    {
     "name": "stdout",
     "output_type": "stream",
     "text": [
      "Training set:\n",
      "              precision    recall  f1-score   support\n",
      "\n",
      "           0       0.00      0.00      0.00       144\n",
      "           1       0.85      1.00      0.92       831\n",
      "\n",
      "    accuracy                           0.85       975\n",
      "   macro avg       0.43      0.50      0.46       975\n",
      "weighted avg       0.73      0.85      0.78       975\n",
      "\n",
      "Testing set:\n",
      "              precision    recall  f1-score   support\n",
      "\n",
      "           0       0.00      0.00      0.00       144\n",
      "           1       0.85      1.00      0.92       831\n",
      "\n",
      "    accuracy                           0.85       975\n",
      "   macro avg       0.43      0.50      0.46       975\n",
      "weighted avg       0.73      0.85      0.78       975\n",
      "\n"
     ]
    },
    {
     "name": "stderr",
     "output_type": "stream",
     "text": [
      "/Users/ndussaillant/opt/anaconda3/lib/python3.8/site-packages/sklearn/metrics/_classification.py:1308: UndefinedMetricWarning: Precision and F-score are ill-defined and being set to 0.0 in labels with no predicted samples. Use `zero_division` parameter to control this behavior.\n",
      "  _warn_prf(average, modifier, msg_start, len(result))\n",
      "/Users/ndussaillant/opt/anaconda3/lib/python3.8/site-packages/sklearn/metrics/_classification.py:1308: UndefinedMetricWarning: Precision and F-score are ill-defined and being set to 0.0 in labels with no predicted samples. Use `zero_division` parameter to control this behavior.\n",
      "  _warn_prf(average, modifier, msg_start, len(result))\n",
      "/Users/ndussaillant/opt/anaconda3/lib/python3.8/site-packages/sklearn/metrics/_classification.py:1308: UndefinedMetricWarning: Precision and F-score are ill-defined and being set to 0.0 in labels with no predicted samples. Use `zero_division` parameter to control this behavior.\n",
      "  _warn_prf(average, modifier, msg_start, len(result))\n",
      "/Users/ndussaillant/opt/anaconda3/lib/python3.8/site-packages/sklearn/metrics/_classification.py:1308: UndefinedMetricWarning: Precision and F-score are ill-defined and being set to 0.0 in labels with no predicted samples. Use `zero_division` parameter to control this behavior.\n",
      "  _warn_prf(average, modifier, msg_start, len(result))\n",
      "/Users/ndussaillant/opt/anaconda3/lib/python3.8/site-packages/sklearn/metrics/_classification.py:1308: UndefinedMetricWarning: Precision and F-score are ill-defined and being set to 0.0 in labels with no predicted samples. Use `zero_division` parameter to control this behavior.\n",
      "  _warn_prf(average, modifier, msg_start, len(result))\n",
      "/Users/ndussaillant/opt/anaconda3/lib/python3.8/site-packages/sklearn/metrics/_classification.py:1308: UndefinedMetricWarning: Precision and F-score are ill-defined and being set to 0.0 in labels with no predicted samples. Use `zero_division` parameter to control this behavior.\n",
      "  _warn_prf(average, modifier, msg_start, len(result))\n"
     ]
    },
    {
     "data": {
      "text/plain": [
       "array([[  0, 144],\n",
       "       [  0, 831]])"
      ]
     },
     "execution_count": 24,
     "metadata": {},
     "output_type": "execute_result"
    }
   ],
   "source": [
    "from sklearn.svm import SVC\n",
    "svc = SVC(random_state = 4051)\n",
    "\n",
    "evaluate_alg(\"Support Vector Classifier\", svc, X_train, y_train, X_test, y_test)"
   ]
  },
  {
   "cell_type": "markdown",
   "metadata": {
    "id": "1AMiFsW-JVwY"
   },
   "source": [
    "### Third algorithm: *Neural Network*"
   ]
  },
  {
   "cell_type": "code",
   "execution_count": 25,
   "metadata": {
    "colab": {
     "base_uri": "https://localhost:8080/"
    },
    "id": "NBeqhOFJC7kW",
    "outputId": "dbffa288-fe81-460a-dc3c-e35decec6a40"
   },
   "outputs": [
    {
     "name": "stdout",
     "output_type": "stream",
     "text": [
      "Training set:\n",
      "              precision    recall  f1-score   support\n",
      "\n",
      "           0       0.50      0.25      0.33       144\n",
      "           1       0.88      0.96      0.92       831\n",
      "\n",
      "    accuracy                           0.85       975\n",
      "   macro avg       0.69      0.60      0.63       975\n",
      "weighted avg       0.82      0.85      0.83       975\n",
      "\n",
      "Testing set:\n",
      "              precision    recall  f1-score   support\n",
      "\n",
      "           0       0.50      0.25      0.33       144\n",
      "           1       0.88      0.96      0.92       831\n",
      "\n",
      "    accuracy                           0.85       975\n",
      "   macro avg       0.69      0.60      0.63       975\n",
      "weighted avg       0.82      0.85      0.83       975\n",
      "\n"
     ]
    },
    {
     "data": {
      "text/plain": [
       "array([[ 36, 108],\n",
       "       [ 36, 795]])"
      ]
     },
     "execution_count": 25,
     "metadata": {},
     "output_type": "execute_result"
    }
   ],
   "source": [
    "from sklearn.neural_network import MLPClassifier\n",
    "mlp = MLPClassifier(random_state = 4051, max_iter = 1000)\n",
    "\n",
    "evaluate_alg(\"Neural Network\", mlp, X_train, y_train, X_test, y_test)"
   ]
  },
  {
   "cell_type": "markdown",
   "metadata": {
    "id": "-CtcSzqhJdl5"
   },
   "source": [
    "### Performance Summary"
   ]
  },
  {
   "cell_type": "code",
   "execution_count": 26,
   "metadata": {
    "colab": {
     "base_uri": "https://localhost:8080/",
     "height": 175
    },
    "id": "uUnU4UB6DoIK",
    "outputId": "d6be1df9-9b45-4a43-ba2a-7c6239e7631e"
   },
   "outputs": [
    {
     "data": {
      "text/html": [
       "<div>\n",
       "<style scoped>\n",
       "    .dataframe tbody tr th:only-of-type {\n",
       "        vertical-align: middle;\n",
       "    }\n",
       "\n",
       "    .dataframe tbody tr th {\n",
       "        vertical-align: top;\n",
       "    }\n",
       "\n",
       "    .dataframe thead th {\n",
       "        text-align: right;\n",
       "    }\n",
       "</style>\n",
       "<table border=\"1\" class=\"dataframe\">\n",
       "  <thead>\n",
       "    <tr style=\"text-align: right;\">\n",
       "      <th></th>\n",
       "      <th>algorithm</th>\n",
       "      <th>accuracy_train</th>\n",
       "      <th>precision_train</th>\n",
       "      <th>recall_train</th>\n",
       "      <th>f1_train</th>\n",
       "      <th>accuracy_test</th>\n",
       "      <th>precision_test</th>\n",
       "      <th>recall_test</th>\n",
       "      <th>f1_test</th>\n",
       "    </tr>\n",
       "  </thead>\n",
       "  <tbody>\n",
       "    <tr>\n",
       "      <th>0</th>\n",
       "      <td>Neural Network</td>\n",
       "      <td>0.930698</td>\n",
       "      <td>0.930760</td>\n",
       "      <td>0.992136</td>\n",
       "      <td>0.960469</td>\n",
       "      <td>0.852308</td>\n",
       "      <td>0.880399</td>\n",
       "      <td>0.956679</td>\n",
       "      <td>0.916955</td>\n",
       "    </tr>\n",
       "    <tr>\n",
       "      <th>1</th>\n",
       "      <td>Support Vector Classifier</td>\n",
       "      <td>0.848563</td>\n",
       "      <td>0.848563</td>\n",
       "      <td>1.000000</td>\n",
       "      <td>0.918078</td>\n",
       "      <td>0.852308</td>\n",
       "      <td>0.852308</td>\n",
       "      <td>1.000000</td>\n",
       "      <td>0.920266</td>\n",
       "    </tr>\n",
       "    <tr>\n",
       "      <th>2</th>\n",
       "      <td>Random Forest (bootstrap)</td>\n",
       "      <td>0.983060</td>\n",
       "      <td>0.983871</td>\n",
       "      <td>0.996370</td>\n",
       "      <td>0.990081</td>\n",
       "      <td>0.849231</td>\n",
       "      <td>0.880846</td>\n",
       "      <td>0.951865</td>\n",
       "      <td>0.914980</td>\n",
       "    </tr>\n",
       "    <tr>\n",
       "      <th>3</th>\n",
       "      <td>Random Forest</td>\n",
       "      <td>0.983060</td>\n",
       "      <td>0.993902</td>\n",
       "      <td>0.986086</td>\n",
       "      <td>0.989979</td>\n",
       "      <td>0.832821</td>\n",
       "      <td>0.881279</td>\n",
       "      <td>0.929001</td>\n",
       "      <td>0.904511</td>\n",
       "    </tr>\n",
       "  </tbody>\n",
       "</table>\n",
       "</div>"
      ],
      "text/plain": [
       "                   algorithm  accuracy_train  precision_train  recall_train  \\\n",
       "0             Neural Network        0.930698         0.930760      0.992136   \n",
       "1  Support Vector Classifier        0.848563         0.848563      1.000000   \n",
       "2  Random Forest (bootstrap)        0.983060         0.983871      0.996370   \n",
       "3              Random Forest        0.983060         0.993902      0.986086   \n",
       "\n",
       "   f1_train  accuracy_test  precision_test  recall_test   f1_test  \n",
       "0  0.960469       0.852308        0.880399     0.956679  0.916955  \n",
       "1  0.918078       0.852308        0.852308     1.000000  0.920266  \n",
       "2  0.990081       0.849231        0.880846     0.951865  0.914980  \n",
       "3  0.989979       0.832821        0.881279     0.929001  0.904511  "
      ]
     },
     "metadata": {},
     "output_type": "display_data"
    }
   ],
   "source": [
    "display(prediction_results)"
   ]
  },
  {
   "cell_type": "markdown",
   "metadata": {
    "id": "CWIx2tRVJj0V"
   },
   "source": [
    "### Discussion\n",
    "\n",
    "Based on the above results, the best performance model for our analysis is the neural network algorithm, with scores in accuracy 85%, precision 88%, recall 96% and f1 92%. On the other hand, the SVC or support vector classifier displayed the worst performance since it is a linear predictor. Our assumption for this result in low accuracy from the SVC model is due to the fact that most of the variables used here are dichotomous. Additionally we can observe that the Random Forest created using Bootstrap performs better than without it; which corresponds with hypothesis that say Bootstrap helps to avoid overfitting.\n",
    "\n",
    "A recursive feature selection was tried with a Logistic Regression and a Decision Tree Classifier seeking to optimize the accuracy score. However, due to the large number of binary variables instead of continuous, logistic regression didn't give a good result, and the decision tree maintained a high percentage of all the variables, so discarding them didn't make too much sense."
   ]
  },
  {
   "cell_type": "markdown",
   "metadata": {
    "id": "i_XiLIZIJmBP"
   },
   "source": [
    "### Conclusion"
   ]
  },
  {
   "cell_type": "markdown",
   "metadata": {
    "id": "26BQ6A48MvvC"
   },
   "source": [
    "After this work, it was possible to create a good classifier to predict drop out of courses for a university. Variables such as course_id, month of the enrollment, being online or being international, among others, were used to predict and presented a good performance.\n",
    "\n",
    "The best algorithm evaluated was a neural network based on a Multi-layer Perceptron classifier, using its default parameters from ScikitLearn package but a maximum iterations of 1,000 instead of 200. Further works could include other types of neural networks, the creation of more variables, or including K-Fold validation."
   ]
  }
 ],
 "metadata": {
  "colab": {
   "collapsed_sections": [],
   "name": "Mini-LA Assignment 1.ipynb",
   "provenance": []
  },
  "kernelspec": {
   "display_name": "Python 3 (ipykernel)",
   "language": "python",
   "name": "python3"
  },
  "language_info": {
   "codemirror_mode": {
    "name": "ipython",
    "version": 3
   },
   "file_extension": ".py",
   "mimetype": "text/x-python",
   "name": "python",
   "nbconvert_exporter": "python",
   "pygments_lexer": "ipython3",
   "version": "3.8.12"
  }
 },
 "nbformat": 4,
 "nbformat_minor": 1
}
